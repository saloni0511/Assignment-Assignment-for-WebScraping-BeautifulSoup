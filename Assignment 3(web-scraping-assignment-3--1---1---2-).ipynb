{
 "cells": [
  {
   "cell_type": "markdown",
   "id": "25f1f6f1",
   "metadata": {},
   "source": [
    "Q1 Write a python program which searches all the product under a particular product from www.amazon.in. The\n",
    "product to be searched will be taken as input from user. For e.g. If user input is ‘guitar’. Then search for\n",
    "guitars"
   ]
  },
  {
   "cell_type": "code",
   "execution_count": null,
   "id": "ac998a2c",
   "metadata": {},
   "outputs": [],
   "source": [
    "! pip install selenium"
   ]
  },
  {
   "cell_type": "code",
   "execution_count": null,
   "id": "70d4c0eb",
   "metadata": {},
   "outputs": [],
   "source": [
    "from selenium import webdriver\n",
    "import time\n",
    "from selenium.common.exceptions import NoSuchElementException\n",
    "import warnings\n",
    "warnings.filterwarnings('ignore')\n",
    "from selenium.webdriver.common.by import By"
   ]
  },
  {
   "cell_type": "code",
   "execution_count": null,
   "id": "e4614877",
   "metadata": {},
   "outputs": [],
   "source": [
    "driver=webdriver.Chrome()"
   ]
  },
  {
   "cell_type": "code",
   "execution_count": null,
   "id": "f12d2aa8",
   "metadata": {},
   "outputs": [],
   "source": [
    "val=input(\"enter your item: \")"
   ]
  },
  {
   "cell_type": "markdown",
   "id": "179608c8",
   "metadata": {},
   "source": [
    "Q2. In the above question, now scrape the following details of each product listed in first 3 pages of your search\n",
    "results and save it in a data frame and csv. In case if any product has less than 3 pages in search results then\n",
    "scrape all the products available under that product name. Details to be scraped are: \"Brand\n",
    "Name\", \"Name of the Product\", \"Price\", \"Return/Exchange\", \"Expected Delivery\", \"Availability\" and\n",
    "“Product URL”. In case, if any of the details are missing for any of the product then replace it by “-“."
   ]
  },
  {
   "cell_type": "code",
   "execution_count": null,
   "id": "f80f7bf0",
   "metadata": {},
   "outputs": [],
   "source": [
    "driver=webdriver.Chrome()\n",
    "driver.get(\"https://www.amazon.in/\")"
   ]
  },
  {
   "cell_type": "code",
   "execution_count": null,
   "id": "5ecd14c9",
   "metadata": {},
   "outputs": [],
   "source": [
    "speaker_tags=driver.find_element(By.XPATH,'//div[@class=\"nav-search-field \"]//input')\n",
    "speaker_tags.send_keys('guitar')"
   ]
  },
  {
   "cell_type": "code",
   "execution_count": null,
   "id": "670b7831",
   "metadata": {},
   "outputs": [],
   "source": [
    "search=driver.find_element(By.XPATH,'//div[@class=\"nav-search-submit nav-sprite\"]//span')\n",
    "search.click()\n",
    "time.sleep(3)"
   ]
  },
  {
   "cell_type": "code",
   "execution_count": null,
   "id": "3e2c7a1d",
   "metadata": {},
   "outputs": [],
   "source": [
    "product_urls = []\n",
    "start=0\n",
    "end=3\n",
    "for page in range(start,end): # scrapping 3 page\n",
    "    url=driver.find_elements(By.XPATH,'//a[@class=\"a-link-normal s-underline-text s-underline-link-text s-link-style a-text-normal\"]')\n",
    "    \n",
    "    for i  in url:\n",
    "        \n",
    "        product_urls.append(i.get_attribute(\"href\"))\n",
    "        \n",
    "    nxt_button=driver.find_element(By.XPATH,'//span[@class=\"s-pagination-item s-pagination-disabled\"]')    \n",
    "    nxt_button.click()\n",
    "    time.sleep(2)"
   ]
  },
  {
   "cell_type": "code",
   "execution_count": null,
   "id": "59000d69",
   "metadata": {},
   "outputs": [],
   "source": [
    "len(product_urls)"
   ]
  },
  {
   "cell_type": "code",
   "execution_count": null,
   "id": "1f39a5ee",
   "metadata": {},
   "outputs": [],
   "source": [
    "brand=[]\n",
    "tittle=[]\n",
    "price=[]\n",
    "exchange=[]\n",
    "delivery=[]\n",
    "availability=[]\n",
    "img=[]"
   ]
  },
  {
   "cell_type": "code",
   "execution_count": null,
   "id": "2c2378f1",
   "metadata": {
    "scrolled": true
   },
   "outputs": [],
   "source": [
    "for url in product_urls:\n",
    "    driver.get(url)\n",
    "    time.sleep(2)\n",
    "   \n",
    "    try:\n",
    "        brand=driver.find_element(By.XPATH,'//span[@class=\"a-size-base po-break-word\"]')\n",
    "        brand.append(brand.text)\n",
    "    except NoSuchElementException as e:\n",
    "        brand.append(\"-\")\n",
    "    \n",
    "   \n",
    "    try:\n",
    "        title=driver.find._element(By.XPATH,' //span[@class=\"a-size-large product-title-word-break\"]')\n",
    "        title.append(title.text)      \n",
    "    except NoSuchElementException as e:\n",
    "        title.append(\"-\")\n",
    "        \n",
    "    try:\n",
    "        price=driver.find_element(By.XPATH,'//span[@class=\"a-price-whole\"]')\n",
    "        Price.append(price.text)\n",
    "    except NoSuchElementException as e:\n",
    "        price.append(\"_\")\n",
    " \n",
    "    try:\n",
    "        exchange=driver.find_element(By.XPATH,'//div[@class=\"a-section a-spacing-none icon-content\"]/span')\n",
    "        exchange.append(exchange.text)\n",
    "    except NoSuchElementException as e:\n",
    "           exchange.append(\"_\")\n",
    "            \n",
    "    try:\n",
    "        delivery=driver.find_element(By.XPATH,'//span[@class=\"a-text-bold\"]')\n",
    "        delivery.append(delivery.text)    \n",
    "    except NoSuchElementException as e:\n",
    "           Delivery.append(\"_\")\n",
    "            \n",
    "    try:\n",
    "        availability=driver.find_element(By.XPATH,'//div[@id=\"availability\"]')\n",
    "        availability.append(availabilty.text)   \n",
    "    except NoSuchElementException as e:\n",
    "           availabilty.append(\"_\")  \n",
    "            \n",
    "    try:\n",
    "        img=driver.find_element(By.XPATH,'//div[@class=\"iv-box-inner\"]/div/div')\n",
    "        img.append(data-scr)    \n",
    "    except NoSuchElementException as e:\n",
    "           img.append(\"_\")\n",
    "            \n",
    "print(brand)\n",
    "print(tittle)\n",
    "print(price)\n",
    "print(exchange)\n",
    "print(delivery)\n",
    "print(availability)\n",
    "print(img)\n",
    "        "
   ]
  },
  {
   "cell_type": "markdown",
   "id": "87abb2fd",
   "metadata": {},
   "source": [
    "Q3.Write a python program to access the search bar and search button on images.google.com and scrape 10\n",
    "images each for keywords ‘fruits’, ‘cars’ and ‘Machine Learning’, ‘Guitar’, ‘Cakes’"
   ]
  },
  {
   "cell_type": "code",
   "execution_count": null,
   "id": "0817ad95",
   "metadata": {},
   "outputs": [],
   "source": []
  },
  {
   "cell_type": "raw",
   "id": "d115d55f",
   "metadata": {},
   "source": []
  },
  {
   "cell_type": "code",
   "execution_count": null,
   "id": "cafa4cb2",
   "metadata": {},
   "outputs": [],
   "source": []
  },
  {
   "cell_type": "code",
   "execution_count": null,
   "id": "116926c8",
   "metadata": {},
   "outputs": [],
   "source": []
  },
  {
   "cell_type": "code",
   "execution_count": null,
   "id": "c415728d",
   "metadata": {},
   "outputs": [],
   "source": []
  },
  {
   "cell_type": "code",
   "execution_count": null,
   "id": "50008b4f",
   "metadata": {},
   "outputs": [],
   "source": [
    "\n"
   ]
  },
  {
   "cell_type": "code",
   "execution_count": null,
   "id": "73df5473",
   "metadata": {},
   "outputs": [],
   "source": [
    "import urllib.request\n",
    "import os\n"
   ]
  },
  {
   "cell_type": "code",
   "execution_count": null,
   "id": "61b2add5",
   "metadata": {},
   "outputs": [],
   "source": [
    "driver=webdriver.Chrome()\n",
    "driver.get(\"https://www.google.com/imghp?hl=en&ogbl\")"
   ]
  },
  {
   "cell_type": "code",
   "execution_count": null,
   "id": "8fbb6261",
   "metadata": {},
   "outputs": [],
   "source": [
    "search_bar=driver.find_element(By.XPATH,'//textarea[@class=\"gLFyf\"]')\n",
    "search_bar.send_keys(\"cakes\")\n",
    "time.sleep(2)"
   ]
  },
  {
   "cell_type": "code",
   "execution_count": null,
   "id": "8ca0d300",
   "metadata": {},
   "outputs": [],
   "source": [
    "search_button=driver.find_element(By.XPATH,'//span[@class=\"z1asCe MZy1Rb\"]')\n",
    "search_button.click()"
   ]
  },
  {
   "cell_type": "code",
   "execution_count": null,
   "id": "0f32aeb9",
   "metadata": {},
   "outputs": [],
   "source": [
    "for _ in range (10):\n",
    "    driver.execute_script(\"window.scrollBy(0,200)\")\n",
    "    \n",
    "img_urls = []\n",
    "images = driver.find_elements(By.XPATH,'//img[@id=\"dimg_19\"]')\n",
    "for image in images:\n",
    "    source= image.get_attribute('src')\n",
    "    if source is not None:\n",
    "        if(source[0:4] == 'http'):\n",
    "            img_urls.append(source)\n",
    "            \n",
    "           \n",
    "\n",
    "for i in range(len(img_urls)):\n",
    "    if i > 10:\n",
    "        breakBy.XPATH,\n",
    "    print(\"Downloading {0} of {1} images\" .fromat(i, 10))\n",
    "    response= requests.get(img_urls[i])\n",
    "    file = open (r\"C:\\Users\\hp5cd\\Downloads\" +str(i) +\" .jpg\", \"wb\")\n",
    "    file.write(response.content)\n",
    "            \n",
    "            \n"
   ]
  },
  {
   "cell_type": "markdown",
   "id": "97b6fecc",
   "metadata": {},
   "source": [
    "Q4 Write a python program to search for a smartphone(e.g.: Oneplus Nord, pixel 4A, etc.) on www.flipkart.com\n",
    "and scrape following details for all the search results displayed on 1st page. Details to be scraped: “Brand\n",
    "Name”, “Smartphone name”, “Colour”, “RAM”, “Storage(ROM)”, “Primary Camera”,\n",
    "“Secondary Camera”, “Display Size”, “Battery Capacity”, “Price”, “Product URL”. Incase if any of the\n",
    "details is missing then replace it by “- “. Save your results in a dataframe and CSV"
   ]
  },
  {
   "cell_type": "code",
   "execution_count": 63,
   "id": "246b4fb8",
   "metadata": {},
   "outputs": [],
   "source": [
    "from selenium import webdriver\n",
    "import time\n",
    "from selenium.common.exceptions import NoSuchElementException\n",
    "import warnings\n",
    "warnings.filterwarnings('ignore')\n",
    "from selenium.webdriver.common.by import By"
   ]
  },
  {
   "cell_type": "code",
   "execution_count": 64,
   "id": "497d42ba",
   "metadata": {},
   "outputs": [],
   "source": [
    "driver=webdriver.Chrome()\n",
    "driver.get(\"https://www.flipkart.com/\")"
   ]
  },
  {
   "cell_type": "code",
   "execution_count": 65,
   "id": "3b6ed787",
   "metadata": {},
   "outputs": [],
   "source": [
    "search_tags=driver.find_element(By.XPATH,'//input[@class=\"Pke_EE\"]')\n",
    "search_tags.send_keys(\"smartphone\")"
   ]
  },
  {
   "cell_type": "code",
   "execution_count": 66,
   "id": "578f0bad",
   "metadata": {},
   "outputs": [],
   "source": [
    "search_button=driver.find_element(By.XPATH,'//button[@class=\"_2iLD__\"]')\n",
    "search_button.click()"
   ]
  },
  {
   "cell_type": "code",
   "execution_count": 67,
   "id": "24d0adb7",
   "metadata": {},
   "outputs": [
    {
     "name": "stdout",
     "output_type": "stream",
     "text": [
      "['Bestseller\\nAdd to Compare\\nMotorola G34 5G (Ocean Green, 128 GB)\\n4.246,493 Ratings & 4,632 Reviews\\n8 GB RAM | 128 GB ROM\\n16.51 cm (6.5 inch) HD+ Display\\n50MP + 2MP | 16MP Front Camera\\n5000 mAh Battery\\nSnapdragon 695 5G Processor\\nVegan Leather Design\\n1 Year on Handset and 6 Months on Accessories\\n₹11,999\\n₹14,99920% off\\nFree delivery\\nSave extra with combo offers\\nUpto \\n₹11,150\\n Off on Exchange']\n",
      "['Bestseller\\nAdd to Compare\\nMotorola G34 5G (Ocean Green, 128 GB)\\n4.246,493 Ratings & 4,632 Reviews\\n8 GB RAM | 128 GB ROM\\n16.51 cm (6.5 inch) HD+ Display\\n50MP + 2MP | 16MP Front Camera\\n5000 mAh Battery\\nSnapdragon 695 5G Processor\\nVegan Leather Design\\n1 Year on Handset and 6 Months on Accessories\\n₹11,999\\n₹14,99920% off\\nFree delivery\\nSave extra with combo offers\\nUpto \\n₹11,150\\n Off on Exchange', 'Add to Compare\\nPOCO C51 - Locked with Airtel Prepaid (Royal Blue, 64 GB)\\n42,11,616 Ratings & 12,004 Reviews\\n4 GB RAM | 64 GB ROM | Expandable Upto 1 TB\\n16.56 cm (6.52 inch) HD+ Display\\n8MP Dual Rear Camera | 5MP Front Camera\\n5000 mAh Battery\\nHelio G36 Processor\\n1 Year Manufacturer Warranty for Phone and 6 Months Warranty for in the Box Accessories\\n₹4,999\\n₹9,99950% off\\nFree delivery\\nSave extra with combo offers\\nBank Offer']\n",
      "['Bestseller\\nAdd to Compare\\nMotorola G34 5G (Ocean Green, 128 GB)\\n4.246,493 Ratings & 4,632 Reviews\\n8 GB RAM | 128 GB ROM\\n16.51 cm (6.5 inch) HD+ Display\\n50MP + 2MP | 16MP Front Camera\\n5000 mAh Battery\\nSnapdragon 695 5G Processor\\nVegan Leather Design\\n1 Year on Handset and 6 Months on Accessories\\n₹11,999\\n₹14,99920% off\\nFree delivery\\nSave extra with combo offers\\nUpto \\n₹11,150\\n Off on Exchange', 'Add to Compare\\nPOCO C51 - Locked with Airtel Prepaid (Royal Blue, 64 GB)\\n42,11,616 Ratings & 12,004 Reviews\\n4 GB RAM | 64 GB ROM | Expandable Upto 1 TB\\n16.56 cm (6.52 inch) HD+ Display\\n8MP Dual Rear Camera | 5MP Front Camera\\n5000 mAh Battery\\nHelio G36 Processor\\n1 Year Manufacturer Warranty for Phone and 6 Months Warranty for in the Box Accessories\\n₹4,999\\n₹9,99950% off\\nFree delivery\\nSave extra with combo offers\\nBank Offer', 'Add to Compare\\nMotorola G34 5G (Charcoal Black, 128 GB)\\n4.246,493 Ratings & 4,632 Reviews\\n8 GB RAM | 128 GB ROM\\n16.51 cm (6.5 inch) HD+ Display\\n50MP + 2MP | 16MP Front Camera\\n5000 mAh Battery\\nSnapdragon 695 5G Processor\\n1 Year on Handset and 6 Months on Accessories\\n₹11,999\\n₹14,99920% off\\nFree delivery\\nSave extra with combo offers\\nUpto \\n₹11,150\\n Off on Exchange']\n",
      "['Bestseller\\nAdd to Compare\\nMotorola G34 5G (Ocean Green, 128 GB)\\n4.246,493 Ratings & 4,632 Reviews\\n8 GB RAM | 128 GB ROM\\n16.51 cm (6.5 inch) HD+ Display\\n50MP + 2MP | 16MP Front Camera\\n5000 mAh Battery\\nSnapdragon 695 5G Processor\\nVegan Leather Design\\n1 Year on Handset and 6 Months on Accessories\\n₹11,999\\n₹14,99920% off\\nFree delivery\\nSave extra with combo offers\\nUpto \\n₹11,150\\n Off on Exchange', 'Add to Compare\\nPOCO C51 - Locked with Airtel Prepaid (Royal Blue, 64 GB)\\n42,11,616 Ratings & 12,004 Reviews\\n4 GB RAM | 64 GB ROM | Expandable Upto 1 TB\\n16.56 cm (6.52 inch) HD+ Display\\n8MP Dual Rear Camera | 5MP Front Camera\\n5000 mAh Battery\\nHelio G36 Processor\\n1 Year Manufacturer Warranty for Phone and 6 Months Warranty for in the Box Accessories\\n₹4,999\\n₹9,99950% off\\nFree delivery\\nSave extra with combo offers\\nBank Offer', 'Add to Compare\\nMotorola G34 5G (Charcoal Black, 128 GB)\\n4.246,493 Ratings & 4,632 Reviews\\n8 GB RAM | 128 GB ROM\\n16.51 cm (6.5 inch) HD+ Display\\n50MP + 2MP | 16MP Front Camera\\n5000 mAh Battery\\nSnapdragon 695 5G Processor\\n1 Year on Handset and 6 Months on Accessories\\n₹11,999\\n₹14,99920% off\\nFree delivery\\nSave extra with combo offers\\nUpto \\n₹11,150\\n Off on Exchange', 'Add to Compare\\nMotorola G34 5G (Ice Blue, 128 GB)\\n4.246,493 Ratings & 4,632 Reviews\\n8 GB RAM | 128 GB ROM\\n16.51 cm (6.5 inch) HD+ Display\\n50MP + 2MP | 16MP Front Camera\\n5000 mAh Battery\\nSnapdragon 695 5G Processor\\n1 Year on Handset and 6 Months on Accessories\\n₹11,999\\n₹14,99920% off\\nFree delivery\\nSave extra with combo offers\\nUpto \\n₹11,150\\n Off on Exchange']\n",
      "['Bestseller\\nAdd to Compare\\nMotorola G34 5G (Ocean Green, 128 GB)\\n4.246,493 Ratings & 4,632 Reviews\\n8 GB RAM | 128 GB ROM\\n16.51 cm (6.5 inch) HD+ Display\\n50MP + 2MP | 16MP Front Camera\\n5000 mAh Battery\\nSnapdragon 695 5G Processor\\nVegan Leather Design\\n1 Year on Handset and 6 Months on Accessories\\n₹11,999\\n₹14,99920% off\\nFree delivery\\nSave extra with combo offers\\nUpto \\n₹11,150\\n Off on Exchange', 'Add to Compare\\nPOCO C51 - Locked with Airtel Prepaid (Royal Blue, 64 GB)\\n42,11,616 Ratings & 12,004 Reviews\\n4 GB RAM | 64 GB ROM | Expandable Upto 1 TB\\n16.56 cm (6.52 inch) HD+ Display\\n8MP Dual Rear Camera | 5MP Front Camera\\n5000 mAh Battery\\nHelio G36 Processor\\n1 Year Manufacturer Warranty for Phone and 6 Months Warranty for in the Box Accessories\\n₹4,999\\n₹9,99950% off\\nFree delivery\\nSave extra with combo offers\\nBank Offer', 'Add to Compare\\nMotorola G34 5G (Charcoal Black, 128 GB)\\n4.246,493 Ratings & 4,632 Reviews\\n8 GB RAM | 128 GB ROM\\n16.51 cm (6.5 inch) HD+ Display\\n50MP + 2MP | 16MP Front Camera\\n5000 mAh Battery\\nSnapdragon 695 5G Processor\\n1 Year on Handset and 6 Months on Accessories\\n₹11,999\\n₹14,99920% off\\nFree delivery\\nSave extra with combo offers\\nUpto \\n₹11,150\\n Off on Exchange', 'Add to Compare\\nMotorola G34 5G (Ice Blue, 128 GB)\\n4.246,493 Ratings & 4,632 Reviews\\n8 GB RAM | 128 GB ROM\\n16.51 cm (6.5 inch) HD+ Display\\n50MP + 2MP | 16MP Front Camera\\n5000 mAh Battery\\nSnapdragon 695 5G Processor\\n1 Year on Handset and 6 Months on Accessories\\n₹11,999\\n₹14,99920% off\\nFree delivery\\nSave extra with combo offers\\nUpto \\n₹11,150\\n Off on Exchange', 'Add to Compare\\nvivo T2x 5G (Glimmer Black, 128 GB)\\n4.43,98,172 Ratings & 22,465 Reviews\\n6 GB RAM | 128 GB ROM\\n16.71 cm (6.58 inch) Full HD+ Display\\n50MP + 2MP | 8MP Front Camera\\n5000 mAh Battery\\nMediatek Dimensity 6020 Processor\\n1 Year of Device & 6 Months for Inbox Accessories\\n₹15,199\\n₹18,99920% off\\nFree delivery\\nSave extra with combo offers\\nOnly 1 left']\n",
      "['Bestseller\\nAdd to Compare\\nMotorola G34 5G (Ocean Green, 128 GB)\\n4.246,493 Ratings & 4,632 Reviews\\n8 GB RAM | 128 GB ROM\\n16.51 cm (6.5 inch) HD+ Display\\n50MP + 2MP | 16MP Front Camera\\n5000 mAh Battery\\nSnapdragon 695 5G Processor\\nVegan Leather Design\\n1 Year on Handset and 6 Months on Accessories\\n₹11,999\\n₹14,99920% off\\nFree delivery\\nSave extra with combo offers\\nUpto \\n₹11,150\\n Off on Exchange', 'Add to Compare\\nPOCO C51 - Locked with Airtel Prepaid (Royal Blue, 64 GB)\\n42,11,616 Ratings & 12,004 Reviews\\n4 GB RAM | 64 GB ROM | Expandable Upto 1 TB\\n16.56 cm (6.52 inch) HD+ Display\\n8MP Dual Rear Camera | 5MP Front Camera\\n5000 mAh Battery\\nHelio G36 Processor\\n1 Year Manufacturer Warranty for Phone and 6 Months Warranty for in the Box Accessories\\n₹4,999\\n₹9,99950% off\\nFree delivery\\nSave extra with combo offers\\nBank Offer', 'Add to Compare\\nMotorola G34 5G (Charcoal Black, 128 GB)\\n4.246,493 Ratings & 4,632 Reviews\\n8 GB RAM | 128 GB ROM\\n16.51 cm (6.5 inch) HD+ Display\\n50MP + 2MP | 16MP Front Camera\\n5000 mAh Battery\\nSnapdragon 695 5G Processor\\n1 Year on Handset and 6 Months on Accessories\\n₹11,999\\n₹14,99920% off\\nFree delivery\\nSave extra with combo offers\\nUpto \\n₹11,150\\n Off on Exchange', 'Add to Compare\\nMotorola G34 5G (Ice Blue, 128 GB)\\n4.246,493 Ratings & 4,632 Reviews\\n8 GB RAM | 128 GB ROM\\n16.51 cm (6.5 inch) HD+ Display\\n50MP + 2MP | 16MP Front Camera\\n5000 mAh Battery\\nSnapdragon 695 5G Processor\\n1 Year on Handset and 6 Months on Accessories\\n₹11,999\\n₹14,99920% off\\nFree delivery\\nSave extra with combo offers\\nUpto \\n₹11,150\\n Off on Exchange', 'Add to Compare\\nvivo T2x 5G (Glimmer Black, 128 GB)\\n4.43,98,172 Ratings & 22,465 Reviews\\n6 GB RAM | 128 GB ROM\\n16.71 cm (6.58 inch) Full HD+ Display\\n50MP + 2MP | 8MP Front Camera\\n5000 mAh Battery\\nMediatek Dimensity 6020 Processor\\n1 Year of Device & 6 Months for Inbox Accessories\\n₹15,199\\n₹18,99920% off\\nFree delivery\\nSave extra with combo offers\\nOnly 1 left', 'Add to Compare\\nvivo T2x 5G (Aurora Gold, 128 GB)\\n4.43,98,172 Ratings & 22,465 Reviews\\n6 GB RAM | 128 GB ROM\\n16.71 cm (6.58 inch) Full HD+ Display\\n50MP + 2MP | 8MP Front Camera\\n5000 mAh Battery\\nMediatek Dimensity 6020 Processor\\n1 Year of Device & 6 Months for Inbox Accessories\\n₹12,999\\n₹18,99931% off\\nFree delivery\\nSave extra with combo offers\\nUpto \\n₹10,100\\n Off on Exchange']\n",
      "['Bestseller\\nAdd to Compare\\nMotorola G34 5G (Ocean Green, 128 GB)\\n4.246,493 Ratings & 4,632 Reviews\\n8 GB RAM | 128 GB ROM\\n16.51 cm (6.5 inch) HD+ Display\\n50MP + 2MP | 16MP Front Camera\\n5000 mAh Battery\\nSnapdragon 695 5G Processor\\nVegan Leather Design\\n1 Year on Handset and 6 Months on Accessories\\n₹11,999\\n₹14,99920% off\\nFree delivery\\nSave extra with combo offers\\nUpto \\n₹11,150\\n Off on Exchange', 'Add to Compare\\nPOCO C51 - Locked with Airtel Prepaid (Royal Blue, 64 GB)\\n42,11,616 Ratings & 12,004 Reviews\\n4 GB RAM | 64 GB ROM | Expandable Upto 1 TB\\n16.56 cm (6.52 inch) HD+ Display\\n8MP Dual Rear Camera | 5MP Front Camera\\n5000 mAh Battery\\nHelio G36 Processor\\n1 Year Manufacturer Warranty for Phone and 6 Months Warranty for in the Box Accessories\\n₹4,999\\n₹9,99950% off\\nFree delivery\\nSave extra with combo offers\\nBank Offer', 'Add to Compare\\nMotorola G34 5G (Charcoal Black, 128 GB)\\n4.246,493 Ratings & 4,632 Reviews\\n8 GB RAM | 128 GB ROM\\n16.51 cm (6.5 inch) HD+ Display\\n50MP + 2MP | 16MP Front Camera\\n5000 mAh Battery\\nSnapdragon 695 5G Processor\\n1 Year on Handset and 6 Months on Accessories\\n₹11,999\\n₹14,99920% off\\nFree delivery\\nSave extra with combo offers\\nUpto \\n₹11,150\\n Off on Exchange', 'Add to Compare\\nMotorola G34 5G (Ice Blue, 128 GB)\\n4.246,493 Ratings & 4,632 Reviews\\n8 GB RAM | 128 GB ROM\\n16.51 cm (6.5 inch) HD+ Display\\n50MP + 2MP | 16MP Front Camera\\n5000 mAh Battery\\nSnapdragon 695 5G Processor\\n1 Year on Handset and 6 Months on Accessories\\n₹11,999\\n₹14,99920% off\\nFree delivery\\nSave extra with combo offers\\nUpto \\n₹11,150\\n Off on Exchange', 'Add to Compare\\nvivo T2x 5G (Glimmer Black, 128 GB)\\n4.43,98,172 Ratings & 22,465 Reviews\\n6 GB RAM | 128 GB ROM\\n16.71 cm (6.58 inch) Full HD+ Display\\n50MP + 2MP | 8MP Front Camera\\n5000 mAh Battery\\nMediatek Dimensity 6020 Processor\\n1 Year of Device & 6 Months for Inbox Accessories\\n₹15,199\\n₹18,99920% off\\nFree delivery\\nSave extra with combo offers\\nOnly 1 left', 'Add to Compare\\nvivo T2x 5G (Aurora Gold, 128 GB)\\n4.43,98,172 Ratings & 22,465 Reviews\\n6 GB RAM | 128 GB ROM\\n16.71 cm (6.58 inch) Full HD+ Display\\n50MP + 2MP | 8MP Front Camera\\n5000 mAh Battery\\nMediatek Dimensity 6020 Processor\\n1 Year of Device & 6 Months for Inbox Accessories\\n₹12,999\\n₹18,99931% off\\nFree delivery\\nSave extra with combo offers\\nUpto \\n₹10,100\\n Off on Exchange', 'Add to Compare\\nvivo T2x 5G (Sunstone Orange, 128 GB)\\n4.43,98,172 Ratings & 22,465 Reviews\\n6 GB RAM | 128 GB ROM\\n16.71 cm (6.58 inch) Full HD+ Display\\n50MP + 2MP | 8MP Front Camera\\n5000 mAh Battery\\nMediatek Dimensity 6020 Processor\\n1 Year of Device & 6 Months for Inbox Accessories\\n₹12,999\\n₹18,99931% off\\nFree delivery\\nSave extra with combo offers\\nUpto \\n₹10,100\\n Off on Exchange']\n",
      "['Bestseller\\nAdd to Compare\\nMotorola G34 5G (Ocean Green, 128 GB)\\n4.246,493 Ratings & 4,632 Reviews\\n8 GB RAM | 128 GB ROM\\n16.51 cm (6.5 inch) HD+ Display\\n50MP + 2MP | 16MP Front Camera\\n5000 mAh Battery\\nSnapdragon 695 5G Processor\\nVegan Leather Design\\n1 Year on Handset and 6 Months on Accessories\\n₹11,999\\n₹14,99920% off\\nFree delivery\\nSave extra with combo offers\\nUpto \\n₹11,150\\n Off on Exchange', 'Add to Compare\\nPOCO C51 - Locked with Airtel Prepaid (Royal Blue, 64 GB)\\n42,11,616 Ratings & 12,004 Reviews\\n4 GB RAM | 64 GB ROM | Expandable Upto 1 TB\\n16.56 cm (6.52 inch) HD+ Display\\n8MP Dual Rear Camera | 5MP Front Camera\\n5000 mAh Battery\\nHelio G36 Processor\\n1 Year Manufacturer Warranty for Phone and 6 Months Warranty for in the Box Accessories\\n₹4,999\\n₹9,99950% off\\nFree delivery\\nSave extra with combo offers\\nBank Offer', 'Add to Compare\\nMotorola G34 5G (Charcoal Black, 128 GB)\\n4.246,493 Ratings & 4,632 Reviews\\n8 GB RAM | 128 GB ROM\\n16.51 cm (6.5 inch) HD+ Display\\n50MP + 2MP | 16MP Front Camera\\n5000 mAh Battery\\nSnapdragon 695 5G Processor\\n1 Year on Handset and 6 Months on Accessories\\n₹11,999\\n₹14,99920% off\\nFree delivery\\nSave extra with combo offers\\nUpto \\n₹11,150\\n Off on Exchange', 'Add to Compare\\nMotorola G34 5G (Ice Blue, 128 GB)\\n4.246,493 Ratings & 4,632 Reviews\\n8 GB RAM | 128 GB ROM\\n16.51 cm (6.5 inch) HD+ Display\\n50MP + 2MP | 16MP Front Camera\\n5000 mAh Battery\\nSnapdragon 695 5G Processor\\n1 Year on Handset and 6 Months on Accessories\\n₹11,999\\n₹14,99920% off\\nFree delivery\\nSave extra with combo offers\\nUpto \\n₹11,150\\n Off on Exchange', 'Add to Compare\\nvivo T2x 5G (Glimmer Black, 128 GB)\\n4.43,98,172 Ratings & 22,465 Reviews\\n6 GB RAM | 128 GB ROM\\n16.71 cm (6.58 inch) Full HD+ Display\\n50MP + 2MP | 8MP Front Camera\\n5000 mAh Battery\\nMediatek Dimensity 6020 Processor\\n1 Year of Device & 6 Months for Inbox Accessories\\n₹15,199\\n₹18,99920% off\\nFree delivery\\nSave extra with combo offers\\nOnly 1 left', 'Add to Compare\\nvivo T2x 5G (Aurora Gold, 128 GB)\\n4.43,98,172 Ratings & 22,465 Reviews\\n6 GB RAM | 128 GB ROM\\n16.71 cm (6.58 inch) Full HD+ Display\\n50MP + 2MP | 8MP Front Camera\\n5000 mAh Battery\\nMediatek Dimensity 6020 Processor\\n1 Year of Device & 6 Months for Inbox Accessories\\n₹12,999\\n₹18,99931% off\\nFree delivery\\nSave extra with combo offers\\nUpto \\n₹10,100\\n Off on Exchange', 'Add to Compare\\nvivo T2x 5G (Sunstone Orange, 128 GB)\\n4.43,98,172 Ratings & 22,465 Reviews\\n6 GB RAM | 128 GB ROM\\n16.71 cm (6.58 inch) Full HD+ Display\\n50MP + 2MP | 8MP Front Camera\\n5000 mAh Battery\\nMediatek Dimensity 6020 Processor\\n1 Year of Device & 6 Months for Inbox Accessories\\n₹12,999\\n₹18,99931% off\\nFree delivery\\nSave extra with combo offers\\nUpto \\n₹10,100\\n Off on Exchange', 'Add to Compare\\nvivo T2x 5G (Marine Blue, 128 GB)\\n4.368,793 Ratings & 4,144 Reviews\\n8 GB RAM | 128 GB ROM\\n16.71 cm (6.58 inch) Full HD+ Display\\n50MP + 2MP | 8MP Front Camera\\n5000 mAh Battery\\nMediatek Dimensity 6020 Processor\\n1 Year of Device & 6 Months for Inbox Accessories\\n₹14,999\\n₹20,99928% off\\nFree delivery\\nSave extra with combo offers\\nUpto \\n₹8,600\\n Off on Exchange']\n",
      "['Bestseller\\nAdd to Compare\\nMotorola G34 5G (Ocean Green, 128 GB)\\n4.246,493 Ratings & 4,632 Reviews\\n8 GB RAM | 128 GB ROM\\n16.51 cm (6.5 inch) HD+ Display\\n50MP + 2MP | 16MP Front Camera\\n5000 mAh Battery\\nSnapdragon 695 5G Processor\\nVegan Leather Design\\n1 Year on Handset and 6 Months on Accessories\\n₹11,999\\n₹14,99920% off\\nFree delivery\\nSave extra with combo offers\\nUpto \\n₹11,150\\n Off on Exchange', 'Add to Compare\\nPOCO C51 - Locked with Airtel Prepaid (Royal Blue, 64 GB)\\n42,11,616 Ratings & 12,004 Reviews\\n4 GB RAM | 64 GB ROM | Expandable Upto 1 TB\\n16.56 cm (6.52 inch) HD+ Display\\n8MP Dual Rear Camera | 5MP Front Camera\\n5000 mAh Battery\\nHelio G36 Processor\\n1 Year Manufacturer Warranty for Phone and 6 Months Warranty for in the Box Accessories\\n₹4,999\\n₹9,99950% off\\nFree delivery\\nSave extra with combo offers\\nBank Offer', 'Add to Compare\\nMotorola G34 5G (Charcoal Black, 128 GB)\\n4.246,493 Ratings & 4,632 Reviews\\n8 GB RAM | 128 GB ROM\\n16.51 cm (6.5 inch) HD+ Display\\n50MP + 2MP | 16MP Front Camera\\n5000 mAh Battery\\nSnapdragon 695 5G Processor\\n1 Year on Handset and 6 Months on Accessories\\n₹11,999\\n₹14,99920% off\\nFree delivery\\nSave extra with combo offers\\nUpto \\n₹11,150\\n Off on Exchange', 'Add to Compare\\nMotorola G34 5G (Ice Blue, 128 GB)\\n4.246,493 Ratings & 4,632 Reviews\\n8 GB RAM | 128 GB ROM\\n16.51 cm (6.5 inch) HD+ Display\\n50MP + 2MP | 16MP Front Camera\\n5000 mAh Battery\\nSnapdragon 695 5G Processor\\n1 Year on Handset and 6 Months on Accessories\\n₹11,999\\n₹14,99920% off\\nFree delivery\\nSave extra with combo offers\\nUpto \\n₹11,150\\n Off on Exchange', 'Add to Compare\\nvivo T2x 5G (Glimmer Black, 128 GB)\\n4.43,98,172 Ratings & 22,465 Reviews\\n6 GB RAM | 128 GB ROM\\n16.71 cm (6.58 inch) Full HD+ Display\\n50MP + 2MP | 8MP Front Camera\\n5000 mAh Battery\\nMediatek Dimensity 6020 Processor\\n1 Year of Device & 6 Months for Inbox Accessories\\n₹15,199\\n₹18,99920% off\\nFree delivery\\nSave extra with combo offers\\nOnly 1 left', 'Add to Compare\\nvivo T2x 5G (Aurora Gold, 128 GB)\\n4.43,98,172 Ratings & 22,465 Reviews\\n6 GB RAM | 128 GB ROM\\n16.71 cm (6.58 inch) Full HD+ Display\\n50MP + 2MP | 8MP Front Camera\\n5000 mAh Battery\\nMediatek Dimensity 6020 Processor\\n1 Year of Device & 6 Months for Inbox Accessories\\n₹12,999\\n₹18,99931% off\\nFree delivery\\nSave extra with combo offers\\nUpto \\n₹10,100\\n Off on Exchange', 'Add to Compare\\nvivo T2x 5G (Sunstone Orange, 128 GB)\\n4.43,98,172 Ratings & 22,465 Reviews\\n6 GB RAM | 128 GB ROM\\n16.71 cm (6.58 inch) Full HD+ Display\\n50MP + 2MP | 8MP Front Camera\\n5000 mAh Battery\\nMediatek Dimensity 6020 Processor\\n1 Year of Device & 6 Months for Inbox Accessories\\n₹12,999\\n₹18,99931% off\\nFree delivery\\nSave extra with combo offers\\nUpto \\n₹10,100\\n Off on Exchange', 'Add to Compare\\nvivo T2x 5G (Marine Blue, 128 GB)\\n4.368,793 Ratings & 4,144 Reviews\\n8 GB RAM | 128 GB ROM\\n16.71 cm (6.58 inch) Full HD+ Display\\n50MP + 2MP | 8MP Front Camera\\n5000 mAh Battery\\nMediatek Dimensity 6020 Processor\\n1 Year of Device & 6 Months for Inbox Accessories\\n₹14,999\\n₹20,99928% off\\nFree delivery\\nSave extra with combo offers\\nUpto \\n₹8,600\\n Off on Exchange', 'Add to Compare\\nvivo T2x 5G (Sunstone Orange, 128 GB)\\n4.41,69,688 Ratings & 9,044 Reviews\\n4 GB RAM | 128 GB ROM\\n16.71 cm (6.58 inch) Full HD+ Display\\n50MP + 2MP | 8MP Front Camera\\n5000 mAh Battery\\nMediatek Dimensity 6020 Processor\\n1 Year of Device & 6 Months for Inbox Accessories\\n₹11,999\\n₹17,99933% off\\nFree delivery\\nSave extra with combo offers\\nUpto \\n₹9,950\\n Off on Exchange']\n",
      "['Bestseller\\nAdd to Compare\\nMotorola G34 5G (Ocean Green, 128 GB)\\n4.246,493 Ratings & 4,632 Reviews\\n8 GB RAM | 128 GB ROM\\n16.51 cm (6.5 inch) HD+ Display\\n50MP + 2MP | 16MP Front Camera\\n5000 mAh Battery\\nSnapdragon 695 5G Processor\\nVegan Leather Design\\n1 Year on Handset and 6 Months on Accessories\\n₹11,999\\n₹14,99920% off\\nFree delivery\\nSave extra with combo offers\\nUpto \\n₹11,150\\n Off on Exchange', 'Add to Compare\\nPOCO C51 - Locked with Airtel Prepaid (Royal Blue, 64 GB)\\n42,11,616 Ratings & 12,004 Reviews\\n4 GB RAM | 64 GB ROM | Expandable Upto 1 TB\\n16.56 cm (6.52 inch) HD+ Display\\n8MP Dual Rear Camera | 5MP Front Camera\\n5000 mAh Battery\\nHelio G36 Processor\\n1 Year Manufacturer Warranty for Phone and 6 Months Warranty for in the Box Accessories\\n₹4,999\\n₹9,99950% off\\nFree delivery\\nSave extra with combo offers\\nBank Offer', 'Add to Compare\\nMotorola G34 5G (Charcoal Black, 128 GB)\\n4.246,493 Ratings & 4,632 Reviews\\n8 GB RAM | 128 GB ROM\\n16.51 cm (6.5 inch) HD+ Display\\n50MP + 2MP | 16MP Front Camera\\n5000 mAh Battery\\nSnapdragon 695 5G Processor\\n1 Year on Handset and 6 Months on Accessories\\n₹11,999\\n₹14,99920% off\\nFree delivery\\nSave extra with combo offers\\nUpto \\n₹11,150\\n Off on Exchange', 'Add to Compare\\nMotorola G34 5G (Ice Blue, 128 GB)\\n4.246,493 Ratings & 4,632 Reviews\\n8 GB RAM | 128 GB ROM\\n16.51 cm (6.5 inch) HD+ Display\\n50MP + 2MP | 16MP Front Camera\\n5000 mAh Battery\\nSnapdragon 695 5G Processor\\n1 Year on Handset and 6 Months on Accessories\\n₹11,999\\n₹14,99920% off\\nFree delivery\\nSave extra with combo offers\\nUpto \\n₹11,150\\n Off on Exchange', 'Add to Compare\\nvivo T2x 5G (Glimmer Black, 128 GB)\\n4.43,98,172 Ratings & 22,465 Reviews\\n6 GB RAM | 128 GB ROM\\n16.71 cm (6.58 inch) Full HD+ Display\\n50MP + 2MP | 8MP Front Camera\\n5000 mAh Battery\\nMediatek Dimensity 6020 Processor\\n1 Year of Device & 6 Months for Inbox Accessories\\n₹15,199\\n₹18,99920% off\\nFree delivery\\nSave extra with combo offers\\nOnly 1 left', 'Add to Compare\\nvivo T2x 5G (Aurora Gold, 128 GB)\\n4.43,98,172 Ratings & 22,465 Reviews\\n6 GB RAM | 128 GB ROM\\n16.71 cm (6.58 inch) Full HD+ Display\\n50MP + 2MP | 8MP Front Camera\\n5000 mAh Battery\\nMediatek Dimensity 6020 Processor\\n1 Year of Device & 6 Months for Inbox Accessories\\n₹12,999\\n₹18,99931% off\\nFree delivery\\nSave extra with combo offers\\nUpto \\n₹10,100\\n Off on Exchange', 'Add to Compare\\nvivo T2x 5G (Sunstone Orange, 128 GB)\\n4.43,98,172 Ratings & 22,465 Reviews\\n6 GB RAM | 128 GB ROM\\n16.71 cm (6.58 inch) Full HD+ Display\\n50MP + 2MP | 8MP Front Camera\\n5000 mAh Battery\\nMediatek Dimensity 6020 Processor\\n1 Year of Device & 6 Months for Inbox Accessories\\n₹12,999\\n₹18,99931% off\\nFree delivery\\nSave extra with combo offers\\nUpto \\n₹10,100\\n Off on Exchange', 'Add to Compare\\nvivo T2x 5G (Marine Blue, 128 GB)\\n4.368,793 Ratings & 4,144 Reviews\\n8 GB RAM | 128 GB ROM\\n16.71 cm (6.58 inch) Full HD+ Display\\n50MP + 2MP | 8MP Front Camera\\n5000 mAh Battery\\nMediatek Dimensity 6020 Processor\\n1 Year of Device & 6 Months for Inbox Accessories\\n₹14,999\\n₹20,99928% off\\nFree delivery\\nSave extra with combo offers\\nUpto \\n₹8,600\\n Off on Exchange', 'Add to Compare\\nvivo T2x 5G (Sunstone Orange, 128 GB)\\n4.41,69,688 Ratings & 9,044 Reviews\\n4 GB RAM | 128 GB ROM\\n16.71 cm (6.58 inch) Full HD+ Display\\n50MP + 2MP | 8MP Front Camera\\n5000 mAh Battery\\nMediatek Dimensity 6020 Processor\\n1 Year of Device & 6 Months for Inbox Accessories\\n₹11,999\\n₹17,99933% off\\nFree delivery\\nSave extra with combo offers\\nUpto \\n₹9,950\\n Off on Exchange', 'Add to Compare\\nvivo T2x 5G (Marine Blue, 128 GB)\\n4.41,69,688 Ratings & 9,044 Reviews\\n4 GB RAM | 128 GB ROM\\n16.71 cm (6.58 inch) Full HD+ Display\\n50MP + 2MP | 8MP Front Camera\\n5000 mAh Battery\\nMediatek Dimensity 6020 Processor\\n1 Year of Device & 6 Months for Inbox Accessories\\n₹11,999\\n₹17,99933% off\\nFree delivery\\nSave extra with combo offers\\nUpto \\n₹9,950\\n Off on Exchange']\n",
      "['Bestseller\\nAdd to Compare\\nMotorola G34 5G (Ocean Green, 128 GB)\\n4.246,493 Ratings & 4,632 Reviews\\n8 GB RAM | 128 GB ROM\\n16.51 cm (6.5 inch) HD+ Display\\n50MP + 2MP | 16MP Front Camera\\n5000 mAh Battery\\nSnapdragon 695 5G Processor\\nVegan Leather Design\\n1 Year on Handset and 6 Months on Accessories\\n₹11,999\\n₹14,99920% off\\nFree delivery\\nSave extra with combo offers\\nUpto \\n₹11,150\\n Off on Exchange', 'Add to Compare\\nPOCO C51 - Locked with Airtel Prepaid (Royal Blue, 64 GB)\\n42,11,616 Ratings & 12,004 Reviews\\n4 GB RAM | 64 GB ROM | Expandable Upto 1 TB\\n16.56 cm (6.52 inch) HD+ Display\\n8MP Dual Rear Camera | 5MP Front Camera\\n5000 mAh Battery\\nHelio G36 Processor\\n1 Year Manufacturer Warranty for Phone and 6 Months Warranty for in the Box Accessories\\n₹4,999\\n₹9,99950% off\\nFree delivery\\nSave extra with combo offers\\nBank Offer', 'Add to Compare\\nMotorola G34 5G (Charcoal Black, 128 GB)\\n4.246,493 Ratings & 4,632 Reviews\\n8 GB RAM | 128 GB ROM\\n16.51 cm (6.5 inch) HD+ Display\\n50MP + 2MP | 16MP Front Camera\\n5000 mAh Battery\\nSnapdragon 695 5G Processor\\n1 Year on Handset and 6 Months on Accessories\\n₹11,999\\n₹14,99920% off\\nFree delivery\\nSave extra with combo offers\\nUpto \\n₹11,150\\n Off on Exchange', 'Add to Compare\\nMotorola G34 5G (Ice Blue, 128 GB)\\n4.246,493 Ratings & 4,632 Reviews\\n8 GB RAM | 128 GB ROM\\n16.51 cm (6.5 inch) HD+ Display\\n50MP + 2MP | 16MP Front Camera\\n5000 mAh Battery\\nSnapdragon 695 5G Processor\\n1 Year on Handset and 6 Months on Accessories\\n₹11,999\\n₹14,99920% off\\nFree delivery\\nSave extra with combo offers\\nUpto \\n₹11,150\\n Off on Exchange', 'Add to Compare\\nvivo T2x 5G (Glimmer Black, 128 GB)\\n4.43,98,172 Ratings & 22,465 Reviews\\n6 GB RAM | 128 GB ROM\\n16.71 cm (6.58 inch) Full HD+ Display\\n50MP + 2MP | 8MP Front Camera\\n5000 mAh Battery\\nMediatek Dimensity 6020 Processor\\n1 Year of Device & 6 Months for Inbox Accessories\\n₹15,199\\n₹18,99920% off\\nFree delivery\\nSave extra with combo offers\\nOnly 1 left', 'Add to Compare\\nvivo T2x 5G (Aurora Gold, 128 GB)\\n4.43,98,172 Ratings & 22,465 Reviews\\n6 GB RAM | 128 GB ROM\\n16.71 cm (6.58 inch) Full HD+ Display\\n50MP + 2MP | 8MP Front Camera\\n5000 mAh Battery\\nMediatek Dimensity 6020 Processor\\n1 Year of Device & 6 Months for Inbox Accessories\\n₹12,999\\n₹18,99931% off\\nFree delivery\\nSave extra with combo offers\\nUpto \\n₹10,100\\n Off on Exchange', 'Add to Compare\\nvivo T2x 5G (Sunstone Orange, 128 GB)\\n4.43,98,172 Ratings & 22,465 Reviews\\n6 GB RAM | 128 GB ROM\\n16.71 cm (6.58 inch) Full HD+ Display\\n50MP + 2MP | 8MP Front Camera\\n5000 mAh Battery\\nMediatek Dimensity 6020 Processor\\n1 Year of Device & 6 Months for Inbox Accessories\\n₹12,999\\n₹18,99931% off\\nFree delivery\\nSave extra with combo offers\\nUpto \\n₹10,100\\n Off on Exchange', 'Add to Compare\\nvivo T2x 5G (Marine Blue, 128 GB)\\n4.368,793 Ratings & 4,144 Reviews\\n8 GB RAM | 128 GB ROM\\n16.71 cm (6.58 inch) Full HD+ Display\\n50MP + 2MP | 8MP Front Camera\\n5000 mAh Battery\\nMediatek Dimensity 6020 Processor\\n1 Year of Device & 6 Months for Inbox Accessories\\n₹14,999\\n₹20,99928% off\\nFree delivery\\nSave extra with combo offers\\nUpto \\n₹8,600\\n Off on Exchange', 'Add to Compare\\nvivo T2x 5G (Sunstone Orange, 128 GB)\\n4.41,69,688 Ratings & 9,044 Reviews\\n4 GB RAM | 128 GB ROM\\n16.71 cm (6.58 inch) Full HD+ Display\\n50MP + 2MP | 8MP Front Camera\\n5000 mAh Battery\\nMediatek Dimensity 6020 Processor\\n1 Year of Device & 6 Months for Inbox Accessories\\n₹11,999\\n₹17,99933% off\\nFree delivery\\nSave extra with combo offers\\nUpto \\n₹9,950\\n Off on Exchange', 'Add to Compare\\nvivo T2x 5G (Marine Blue, 128 GB)\\n4.41,69,688 Ratings & 9,044 Reviews\\n4 GB RAM | 128 GB ROM\\n16.71 cm (6.58 inch) Full HD+ Display\\n50MP + 2MP | 8MP Front Camera\\n5000 mAh Battery\\nMediatek Dimensity 6020 Processor\\n1 Year of Device & 6 Months for Inbox Accessories\\n₹11,999\\n₹17,99933% off\\nFree delivery\\nSave extra with combo offers\\nUpto \\n₹9,950\\n Off on Exchange', 'Add to Compare\\nvivo T2x 5G (Aurora Gold, 128 GB)\\n4.368,793 Ratings & 4,144 Reviews\\n8 GB RAM | 128 GB ROM\\n16.71 cm (6.58 inch) Full HD+ Display\\n50MP + 2MP | 8MP Front Camera\\n5000 mAh Battery\\nMediatek Dimensity 6020 Processor\\n1 Year of Device & 6 Months for Inbox Accessories\\n₹14,999\\n₹20,99928% off\\nFree delivery\\nSave extra with combo offers\\nUpto \\n₹8,600\\n Off on Exchange']\n",
      "['Bestseller\\nAdd to Compare\\nMotorola G34 5G (Ocean Green, 128 GB)\\n4.246,493 Ratings & 4,632 Reviews\\n8 GB RAM | 128 GB ROM\\n16.51 cm (6.5 inch) HD+ Display\\n50MP + 2MP | 16MP Front Camera\\n5000 mAh Battery\\nSnapdragon 695 5G Processor\\nVegan Leather Design\\n1 Year on Handset and 6 Months on Accessories\\n₹11,999\\n₹14,99920% off\\nFree delivery\\nSave extra with combo offers\\nUpto \\n₹11,150\\n Off on Exchange', 'Add to Compare\\nPOCO C51 - Locked with Airtel Prepaid (Royal Blue, 64 GB)\\n42,11,616 Ratings & 12,004 Reviews\\n4 GB RAM | 64 GB ROM | Expandable Upto 1 TB\\n16.56 cm (6.52 inch) HD+ Display\\n8MP Dual Rear Camera | 5MP Front Camera\\n5000 mAh Battery\\nHelio G36 Processor\\n1 Year Manufacturer Warranty for Phone and 6 Months Warranty for in the Box Accessories\\n₹4,999\\n₹9,99950% off\\nFree delivery\\nSave extra with combo offers\\nBank Offer', 'Add to Compare\\nMotorola G34 5G (Charcoal Black, 128 GB)\\n4.246,493 Ratings & 4,632 Reviews\\n8 GB RAM | 128 GB ROM\\n16.51 cm (6.5 inch) HD+ Display\\n50MP + 2MP | 16MP Front Camera\\n5000 mAh Battery\\nSnapdragon 695 5G Processor\\n1 Year on Handset and 6 Months on Accessories\\n₹11,999\\n₹14,99920% off\\nFree delivery\\nSave extra with combo offers\\nUpto \\n₹11,150\\n Off on Exchange', 'Add to Compare\\nMotorola G34 5G (Ice Blue, 128 GB)\\n4.246,493 Ratings & 4,632 Reviews\\n8 GB RAM | 128 GB ROM\\n16.51 cm (6.5 inch) HD+ Display\\n50MP + 2MP | 16MP Front Camera\\n5000 mAh Battery\\nSnapdragon 695 5G Processor\\n1 Year on Handset and 6 Months on Accessories\\n₹11,999\\n₹14,99920% off\\nFree delivery\\nSave extra with combo offers\\nUpto \\n₹11,150\\n Off on Exchange', 'Add to Compare\\nvivo T2x 5G (Glimmer Black, 128 GB)\\n4.43,98,172 Ratings & 22,465 Reviews\\n6 GB RAM | 128 GB ROM\\n16.71 cm (6.58 inch) Full HD+ Display\\n50MP + 2MP | 8MP Front Camera\\n5000 mAh Battery\\nMediatek Dimensity 6020 Processor\\n1 Year of Device & 6 Months for Inbox Accessories\\n₹15,199\\n₹18,99920% off\\nFree delivery\\nSave extra with combo offers\\nOnly 1 left', 'Add to Compare\\nvivo T2x 5G (Aurora Gold, 128 GB)\\n4.43,98,172 Ratings & 22,465 Reviews\\n6 GB RAM | 128 GB ROM\\n16.71 cm (6.58 inch) Full HD+ Display\\n50MP + 2MP | 8MP Front Camera\\n5000 mAh Battery\\nMediatek Dimensity 6020 Processor\\n1 Year of Device & 6 Months for Inbox Accessories\\n₹12,999\\n₹18,99931% off\\nFree delivery\\nSave extra with combo offers\\nUpto \\n₹10,100\\n Off on Exchange', 'Add to Compare\\nvivo T2x 5G (Sunstone Orange, 128 GB)\\n4.43,98,172 Ratings & 22,465 Reviews\\n6 GB RAM | 128 GB ROM\\n16.71 cm (6.58 inch) Full HD+ Display\\n50MP + 2MP | 8MP Front Camera\\n5000 mAh Battery\\nMediatek Dimensity 6020 Processor\\n1 Year of Device & 6 Months for Inbox Accessories\\n₹12,999\\n₹18,99931% off\\nFree delivery\\nSave extra with combo offers\\nUpto \\n₹10,100\\n Off on Exchange', 'Add to Compare\\nvivo T2x 5G (Marine Blue, 128 GB)\\n4.368,793 Ratings & 4,144 Reviews\\n8 GB RAM | 128 GB ROM\\n16.71 cm (6.58 inch) Full HD+ Display\\n50MP + 2MP | 8MP Front Camera\\n5000 mAh Battery\\nMediatek Dimensity 6020 Processor\\n1 Year of Device & 6 Months for Inbox Accessories\\n₹14,999\\n₹20,99928% off\\nFree delivery\\nSave extra with combo offers\\nUpto \\n₹8,600\\n Off on Exchange', 'Add to Compare\\nvivo T2x 5G (Sunstone Orange, 128 GB)\\n4.41,69,688 Ratings & 9,044 Reviews\\n4 GB RAM | 128 GB ROM\\n16.71 cm (6.58 inch) Full HD+ Display\\n50MP + 2MP | 8MP Front Camera\\n5000 mAh Battery\\nMediatek Dimensity 6020 Processor\\n1 Year of Device & 6 Months for Inbox Accessories\\n₹11,999\\n₹17,99933% off\\nFree delivery\\nSave extra with combo offers\\nUpto \\n₹9,950\\n Off on Exchange', 'Add to Compare\\nvivo T2x 5G (Marine Blue, 128 GB)\\n4.41,69,688 Ratings & 9,044 Reviews\\n4 GB RAM | 128 GB ROM\\n16.71 cm (6.58 inch) Full HD+ Display\\n50MP + 2MP | 8MP Front Camera\\n5000 mAh Battery\\nMediatek Dimensity 6020 Processor\\n1 Year of Device & 6 Months for Inbox Accessories\\n₹11,999\\n₹17,99933% off\\nFree delivery\\nSave extra with combo offers\\nUpto \\n₹9,950\\n Off on Exchange', 'Add to Compare\\nvivo T2x 5G (Aurora Gold, 128 GB)\\n4.368,793 Ratings & 4,144 Reviews\\n8 GB RAM | 128 GB ROM\\n16.71 cm (6.58 inch) Full HD+ Display\\n50MP + 2MP | 8MP Front Camera\\n5000 mAh Battery\\nMediatek Dimensity 6020 Processor\\n1 Year of Device & 6 Months for Inbox Accessories\\n₹14,999\\n₹20,99928% off\\nFree delivery\\nSave extra with combo offers\\nUpto \\n₹8,600\\n Off on Exchange', 'Add to Compare\\nvivo T2x 5G (Black Gladiator, 128 GB)\\n4.368,793 Ratings & 4,144 Reviews\\n8 GB RAM | 128 GB ROM\\n16.71 cm (6.58 inch) Full HD+ Display\\n50MP + 2MP | 8MP Front Camera\\n5000 mAh Battery\\nMediatek Dimensity 6020 Processor\\n1 Year of Device & 6 Months for Inbox Accessories\\n₹14,999\\n₹20,99928% off\\nFree delivery\\nSave extra with combo offers\\nUpto \\n₹8,600\\n Off on Exchange']\n",
      "['Bestseller\\nAdd to Compare\\nMotorola G34 5G (Ocean Green, 128 GB)\\n4.246,493 Ratings & 4,632 Reviews\\n8 GB RAM | 128 GB ROM\\n16.51 cm (6.5 inch) HD+ Display\\n50MP + 2MP | 16MP Front Camera\\n5000 mAh Battery\\nSnapdragon 695 5G Processor\\nVegan Leather Design\\n1 Year on Handset and 6 Months on Accessories\\n₹11,999\\n₹14,99920% off\\nFree delivery\\nSave extra with combo offers\\nUpto \\n₹11,150\\n Off on Exchange', 'Add to Compare\\nPOCO C51 - Locked with Airtel Prepaid (Royal Blue, 64 GB)\\n42,11,616 Ratings & 12,004 Reviews\\n4 GB RAM | 64 GB ROM | Expandable Upto 1 TB\\n16.56 cm (6.52 inch) HD+ Display\\n8MP Dual Rear Camera | 5MP Front Camera\\n5000 mAh Battery\\nHelio G36 Processor\\n1 Year Manufacturer Warranty for Phone and 6 Months Warranty for in the Box Accessories\\n₹4,999\\n₹9,99950% off\\nFree delivery\\nSave extra with combo offers\\nBank Offer', 'Add to Compare\\nMotorola G34 5G (Charcoal Black, 128 GB)\\n4.246,493 Ratings & 4,632 Reviews\\n8 GB RAM | 128 GB ROM\\n16.51 cm (6.5 inch) HD+ Display\\n50MP + 2MP | 16MP Front Camera\\n5000 mAh Battery\\nSnapdragon 695 5G Processor\\n1 Year on Handset and 6 Months on Accessories\\n₹11,999\\n₹14,99920% off\\nFree delivery\\nSave extra with combo offers\\nUpto \\n₹11,150\\n Off on Exchange', 'Add to Compare\\nMotorola G34 5G (Ice Blue, 128 GB)\\n4.246,493 Ratings & 4,632 Reviews\\n8 GB RAM | 128 GB ROM\\n16.51 cm (6.5 inch) HD+ Display\\n50MP + 2MP | 16MP Front Camera\\n5000 mAh Battery\\nSnapdragon 695 5G Processor\\n1 Year on Handset and 6 Months on Accessories\\n₹11,999\\n₹14,99920% off\\nFree delivery\\nSave extra with combo offers\\nUpto \\n₹11,150\\n Off on Exchange', 'Add to Compare\\nvivo T2x 5G (Glimmer Black, 128 GB)\\n4.43,98,172 Ratings & 22,465 Reviews\\n6 GB RAM | 128 GB ROM\\n16.71 cm (6.58 inch) Full HD+ Display\\n50MP + 2MP | 8MP Front Camera\\n5000 mAh Battery\\nMediatek Dimensity 6020 Processor\\n1 Year of Device & 6 Months for Inbox Accessories\\n₹15,199\\n₹18,99920% off\\nFree delivery\\nSave extra with combo offers\\nOnly 1 left', 'Add to Compare\\nvivo T2x 5G (Aurora Gold, 128 GB)\\n4.43,98,172 Ratings & 22,465 Reviews\\n6 GB RAM | 128 GB ROM\\n16.71 cm (6.58 inch) Full HD+ Display\\n50MP + 2MP | 8MP Front Camera\\n5000 mAh Battery\\nMediatek Dimensity 6020 Processor\\n1 Year of Device & 6 Months for Inbox Accessories\\n₹12,999\\n₹18,99931% off\\nFree delivery\\nSave extra with combo offers\\nUpto \\n₹10,100\\n Off on Exchange', 'Add to Compare\\nvivo T2x 5G (Sunstone Orange, 128 GB)\\n4.43,98,172 Ratings & 22,465 Reviews\\n6 GB RAM | 128 GB ROM\\n16.71 cm (6.58 inch) Full HD+ Display\\n50MP + 2MP | 8MP Front Camera\\n5000 mAh Battery\\nMediatek Dimensity 6020 Processor\\n1 Year of Device & 6 Months for Inbox Accessories\\n₹12,999\\n₹18,99931% off\\nFree delivery\\nSave extra with combo offers\\nUpto \\n₹10,100\\n Off on Exchange', 'Add to Compare\\nvivo T2x 5G (Marine Blue, 128 GB)\\n4.368,793 Ratings & 4,144 Reviews\\n8 GB RAM | 128 GB ROM\\n16.71 cm (6.58 inch) Full HD+ Display\\n50MP + 2MP | 8MP Front Camera\\n5000 mAh Battery\\nMediatek Dimensity 6020 Processor\\n1 Year of Device & 6 Months for Inbox Accessories\\n₹14,999\\n₹20,99928% off\\nFree delivery\\nSave extra with combo offers\\nUpto \\n₹8,600\\n Off on Exchange', 'Add to Compare\\nvivo T2x 5G (Sunstone Orange, 128 GB)\\n4.41,69,688 Ratings & 9,044 Reviews\\n4 GB RAM | 128 GB ROM\\n16.71 cm (6.58 inch) Full HD+ Display\\n50MP + 2MP | 8MP Front Camera\\n5000 mAh Battery\\nMediatek Dimensity 6020 Processor\\n1 Year of Device & 6 Months for Inbox Accessories\\n₹11,999\\n₹17,99933% off\\nFree delivery\\nSave extra with combo offers\\nUpto \\n₹9,950\\n Off on Exchange', 'Add to Compare\\nvivo T2x 5G (Marine Blue, 128 GB)\\n4.41,69,688 Ratings & 9,044 Reviews\\n4 GB RAM | 128 GB ROM\\n16.71 cm (6.58 inch) Full HD+ Display\\n50MP + 2MP | 8MP Front Camera\\n5000 mAh Battery\\nMediatek Dimensity 6020 Processor\\n1 Year of Device & 6 Months for Inbox Accessories\\n₹11,999\\n₹17,99933% off\\nFree delivery\\nSave extra with combo offers\\nUpto \\n₹9,950\\n Off on Exchange', 'Add to Compare\\nvivo T2x 5G (Aurora Gold, 128 GB)\\n4.368,793 Ratings & 4,144 Reviews\\n8 GB RAM | 128 GB ROM\\n16.71 cm (6.58 inch) Full HD+ Display\\n50MP + 2MP | 8MP Front Camera\\n5000 mAh Battery\\nMediatek Dimensity 6020 Processor\\n1 Year of Device & 6 Months for Inbox Accessories\\n₹14,999\\n₹20,99928% off\\nFree delivery\\nSave extra with combo offers\\nUpto \\n₹8,600\\n Off on Exchange', 'Add to Compare\\nvivo T2x 5G (Black Gladiator, 128 GB)\\n4.368,793 Ratings & 4,144 Reviews\\n8 GB RAM | 128 GB ROM\\n16.71 cm (6.58 inch) Full HD+ Display\\n50MP + 2MP | 8MP Front Camera\\n5000 mAh Battery\\nMediatek Dimensity 6020 Processor\\n1 Year of Device & 6 Months for Inbox Accessories\\n₹14,999\\n₹20,99928% off\\nFree delivery\\nSave extra with combo offers\\nUpto \\n₹8,600\\n Off on Exchange', 'Add to Compare\\nMOTOROLA g24 Power (Glacier Blue, 128 GB)\\n4.25,730 Ratings & 584 Reviews\\n4 GB RAM | 128 GB ROM | Expandable Upto 1 TB\\n16.76 cm (6.6 inch) HD+ Display\\n50MP + 2MP | 16MP Front Camera\\n6000 mAh Battery\\nHelio G85 Processor\\n1 Year on Handset and 6 Months on Accessories\\n₹7,999\\n₹11,99933% off\\nFree delivery\\nSave extra with combo offers\\nUpto \\n₹7,400\\n Off on Exchange']\n",
      "['Bestseller\\nAdd to Compare\\nMotorola G34 5G (Ocean Green, 128 GB)\\n4.246,493 Ratings & 4,632 Reviews\\n8 GB RAM | 128 GB ROM\\n16.51 cm (6.5 inch) HD+ Display\\n50MP + 2MP | 16MP Front Camera\\n5000 mAh Battery\\nSnapdragon 695 5G Processor\\nVegan Leather Design\\n1 Year on Handset and 6 Months on Accessories\\n₹11,999\\n₹14,99920% off\\nFree delivery\\nSave extra with combo offers\\nUpto \\n₹11,150\\n Off on Exchange', 'Add to Compare\\nPOCO C51 - Locked with Airtel Prepaid (Royal Blue, 64 GB)\\n42,11,616 Ratings & 12,004 Reviews\\n4 GB RAM | 64 GB ROM | Expandable Upto 1 TB\\n16.56 cm (6.52 inch) HD+ Display\\n8MP Dual Rear Camera | 5MP Front Camera\\n5000 mAh Battery\\nHelio G36 Processor\\n1 Year Manufacturer Warranty for Phone and 6 Months Warranty for in the Box Accessories\\n₹4,999\\n₹9,99950% off\\nFree delivery\\nSave extra with combo offers\\nBank Offer', 'Add to Compare\\nMotorola G34 5G (Charcoal Black, 128 GB)\\n4.246,493 Ratings & 4,632 Reviews\\n8 GB RAM | 128 GB ROM\\n16.51 cm (6.5 inch) HD+ Display\\n50MP + 2MP | 16MP Front Camera\\n5000 mAh Battery\\nSnapdragon 695 5G Processor\\n1 Year on Handset and 6 Months on Accessories\\n₹11,999\\n₹14,99920% off\\nFree delivery\\nSave extra with combo offers\\nUpto \\n₹11,150\\n Off on Exchange', 'Add to Compare\\nMotorola G34 5G (Ice Blue, 128 GB)\\n4.246,493 Ratings & 4,632 Reviews\\n8 GB RAM | 128 GB ROM\\n16.51 cm (6.5 inch) HD+ Display\\n50MP + 2MP | 16MP Front Camera\\n5000 mAh Battery\\nSnapdragon 695 5G Processor\\n1 Year on Handset and 6 Months on Accessories\\n₹11,999\\n₹14,99920% off\\nFree delivery\\nSave extra with combo offers\\nUpto \\n₹11,150\\n Off on Exchange', 'Add to Compare\\nvivo T2x 5G (Glimmer Black, 128 GB)\\n4.43,98,172 Ratings & 22,465 Reviews\\n6 GB RAM | 128 GB ROM\\n16.71 cm (6.58 inch) Full HD+ Display\\n50MP + 2MP | 8MP Front Camera\\n5000 mAh Battery\\nMediatek Dimensity 6020 Processor\\n1 Year of Device & 6 Months for Inbox Accessories\\n₹15,199\\n₹18,99920% off\\nFree delivery\\nSave extra with combo offers\\nOnly 1 left', 'Add to Compare\\nvivo T2x 5G (Aurora Gold, 128 GB)\\n4.43,98,172 Ratings & 22,465 Reviews\\n6 GB RAM | 128 GB ROM\\n16.71 cm (6.58 inch) Full HD+ Display\\n50MP + 2MP | 8MP Front Camera\\n5000 mAh Battery\\nMediatek Dimensity 6020 Processor\\n1 Year of Device & 6 Months for Inbox Accessories\\n₹12,999\\n₹18,99931% off\\nFree delivery\\nSave extra with combo offers\\nUpto \\n₹10,100\\n Off on Exchange', 'Add to Compare\\nvivo T2x 5G (Sunstone Orange, 128 GB)\\n4.43,98,172 Ratings & 22,465 Reviews\\n6 GB RAM | 128 GB ROM\\n16.71 cm (6.58 inch) Full HD+ Display\\n50MP + 2MP | 8MP Front Camera\\n5000 mAh Battery\\nMediatek Dimensity 6020 Processor\\n1 Year of Device & 6 Months for Inbox Accessories\\n₹12,999\\n₹18,99931% off\\nFree delivery\\nSave extra with combo offers\\nUpto \\n₹10,100\\n Off on Exchange', 'Add to Compare\\nvivo T2x 5G (Marine Blue, 128 GB)\\n4.368,793 Ratings & 4,144 Reviews\\n8 GB RAM | 128 GB ROM\\n16.71 cm (6.58 inch) Full HD+ Display\\n50MP + 2MP | 8MP Front Camera\\n5000 mAh Battery\\nMediatek Dimensity 6020 Processor\\n1 Year of Device & 6 Months for Inbox Accessories\\n₹14,999\\n₹20,99928% off\\nFree delivery\\nSave extra with combo offers\\nUpto \\n₹8,600\\n Off on Exchange', 'Add to Compare\\nvivo T2x 5G (Sunstone Orange, 128 GB)\\n4.41,69,688 Ratings & 9,044 Reviews\\n4 GB RAM | 128 GB ROM\\n16.71 cm (6.58 inch) Full HD+ Display\\n50MP + 2MP | 8MP Front Camera\\n5000 mAh Battery\\nMediatek Dimensity 6020 Processor\\n1 Year of Device & 6 Months for Inbox Accessories\\n₹11,999\\n₹17,99933% off\\nFree delivery\\nSave extra with combo offers\\nUpto \\n₹9,950\\n Off on Exchange', 'Add to Compare\\nvivo T2x 5G (Marine Blue, 128 GB)\\n4.41,69,688 Ratings & 9,044 Reviews\\n4 GB RAM | 128 GB ROM\\n16.71 cm (6.58 inch) Full HD+ Display\\n50MP + 2MP | 8MP Front Camera\\n5000 mAh Battery\\nMediatek Dimensity 6020 Processor\\n1 Year of Device & 6 Months for Inbox Accessories\\n₹11,999\\n₹17,99933% off\\nFree delivery\\nSave extra with combo offers\\nUpto \\n₹9,950\\n Off on Exchange', 'Add to Compare\\nvivo T2x 5G (Aurora Gold, 128 GB)\\n4.368,793 Ratings & 4,144 Reviews\\n8 GB RAM | 128 GB ROM\\n16.71 cm (6.58 inch) Full HD+ Display\\n50MP + 2MP | 8MP Front Camera\\n5000 mAh Battery\\nMediatek Dimensity 6020 Processor\\n1 Year of Device & 6 Months for Inbox Accessories\\n₹14,999\\n₹20,99928% off\\nFree delivery\\nSave extra with combo offers\\nUpto \\n₹8,600\\n Off on Exchange', 'Add to Compare\\nvivo T2x 5G (Black Gladiator, 128 GB)\\n4.368,793 Ratings & 4,144 Reviews\\n8 GB RAM | 128 GB ROM\\n16.71 cm (6.58 inch) Full HD+ Display\\n50MP + 2MP | 8MP Front Camera\\n5000 mAh Battery\\nMediatek Dimensity 6020 Processor\\n1 Year of Device & 6 Months for Inbox Accessories\\n₹14,999\\n₹20,99928% off\\nFree delivery\\nSave extra with combo offers\\nUpto \\n₹8,600\\n Off on Exchange', 'Add to Compare\\nMOTOROLA g24 Power (Glacier Blue, 128 GB)\\n4.25,730 Ratings & 584 Reviews\\n4 GB RAM | 128 GB ROM | Expandable Upto 1 TB\\n16.76 cm (6.6 inch) HD+ Display\\n50MP + 2MP | 16MP Front Camera\\n6000 mAh Battery\\nHelio G85 Processor\\n1 Year on Handset and 6 Months on Accessories\\n₹7,999\\n₹11,99933% off\\nFree delivery\\nSave extra with combo offers\\nUpto \\n₹7,400\\n Off on Exchange', 'Add to Compare\\nvivo T2x 5G (Black Gladiator, 128 GB)\\n4.41,69,688 Ratings & 9,044 Reviews\\n4 GB RAM | 128 GB ROM\\n16.71 cm (6.58 inch) Full HD+ Display\\n50MP + 2MP | 8MP Front Camera\\n5000 mAh Battery\\nMediatek Dimensity 6020 Processor\\n1 Year of Device & 6 Months for Inbox Accessories\\n₹11,999\\n₹17,99933% off\\nFree delivery\\nSave extra with combo offers\\nUpto \\n₹9,950\\n Off on Exchange']\n",
      "['Bestseller\\nAdd to Compare\\nMotorola G34 5G (Ocean Green, 128 GB)\\n4.246,493 Ratings & 4,632 Reviews\\n8 GB RAM | 128 GB ROM\\n16.51 cm (6.5 inch) HD+ Display\\n50MP + 2MP | 16MP Front Camera\\n5000 mAh Battery\\nSnapdragon 695 5G Processor\\nVegan Leather Design\\n1 Year on Handset and 6 Months on Accessories\\n₹11,999\\n₹14,99920% off\\nFree delivery\\nSave extra with combo offers\\nUpto \\n₹11,150\\n Off on Exchange', 'Add to Compare\\nPOCO C51 - Locked with Airtel Prepaid (Royal Blue, 64 GB)\\n42,11,616 Ratings & 12,004 Reviews\\n4 GB RAM | 64 GB ROM | Expandable Upto 1 TB\\n16.56 cm (6.52 inch) HD+ Display\\n8MP Dual Rear Camera | 5MP Front Camera\\n5000 mAh Battery\\nHelio G36 Processor\\n1 Year Manufacturer Warranty for Phone and 6 Months Warranty for in the Box Accessories\\n₹4,999\\n₹9,99950% off\\nFree delivery\\nSave extra with combo offers\\nBank Offer', 'Add to Compare\\nMotorola G34 5G (Charcoal Black, 128 GB)\\n4.246,493 Ratings & 4,632 Reviews\\n8 GB RAM | 128 GB ROM\\n16.51 cm (6.5 inch) HD+ Display\\n50MP + 2MP | 16MP Front Camera\\n5000 mAh Battery\\nSnapdragon 695 5G Processor\\n1 Year on Handset and 6 Months on Accessories\\n₹11,999\\n₹14,99920% off\\nFree delivery\\nSave extra with combo offers\\nUpto \\n₹11,150\\n Off on Exchange', 'Add to Compare\\nMotorola G34 5G (Ice Blue, 128 GB)\\n4.246,493 Ratings & 4,632 Reviews\\n8 GB RAM | 128 GB ROM\\n16.51 cm (6.5 inch) HD+ Display\\n50MP + 2MP | 16MP Front Camera\\n5000 mAh Battery\\nSnapdragon 695 5G Processor\\n1 Year on Handset and 6 Months on Accessories\\n₹11,999\\n₹14,99920% off\\nFree delivery\\nSave extra with combo offers\\nUpto \\n₹11,150\\n Off on Exchange', 'Add to Compare\\nvivo T2x 5G (Glimmer Black, 128 GB)\\n4.43,98,172 Ratings & 22,465 Reviews\\n6 GB RAM | 128 GB ROM\\n16.71 cm (6.58 inch) Full HD+ Display\\n50MP + 2MP | 8MP Front Camera\\n5000 mAh Battery\\nMediatek Dimensity 6020 Processor\\n1 Year of Device & 6 Months for Inbox Accessories\\n₹15,199\\n₹18,99920% off\\nFree delivery\\nSave extra with combo offers\\nOnly 1 left', 'Add to Compare\\nvivo T2x 5G (Aurora Gold, 128 GB)\\n4.43,98,172 Ratings & 22,465 Reviews\\n6 GB RAM | 128 GB ROM\\n16.71 cm (6.58 inch) Full HD+ Display\\n50MP + 2MP | 8MP Front Camera\\n5000 mAh Battery\\nMediatek Dimensity 6020 Processor\\n1 Year of Device & 6 Months for Inbox Accessories\\n₹12,999\\n₹18,99931% off\\nFree delivery\\nSave extra with combo offers\\nUpto \\n₹10,100\\n Off on Exchange', 'Add to Compare\\nvivo T2x 5G (Sunstone Orange, 128 GB)\\n4.43,98,172 Ratings & 22,465 Reviews\\n6 GB RAM | 128 GB ROM\\n16.71 cm (6.58 inch) Full HD+ Display\\n50MP + 2MP | 8MP Front Camera\\n5000 mAh Battery\\nMediatek Dimensity 6020 Processor\\n1 Year of Device & 6 Months for Inbox Accessories\\n₹12,999\\n₹18,99931% off\\nFree delivery\\nSave extra with combo offers\\nUpto \\n₹10,100\\n Off on Exchange', 'Add to Compare\\nvivo T2x 5G (Marine Blue, 128 GB)\\n4.368,793 Ratings & 4,144 Reviews\\n8 GB RAM | 128 GB ROM\\n16.71 cm (6.58 inch) Full HD+ Display\\n50MP + 2MP | 8MP Front Camera\\n5000 mAh Battery\\nMediatek Dimensity 6020 Processor\\n1 Year of Device & 6 Months for Inbox Accessories\\n₹14,999\\n₹20,99928% off\\nFree delivery\\nSave extra with combo offers\\nUpto \\n₹8,600\\n Off on Exchange', 'Add to Compare\\nvivo T2x 5G (Sunstone Orange, 128 GB)\\n4.41,69,688 Ratings & 9,044 Reviews\\n4 GB RAM | 128 GB ROM\\n16.71 cm (6.58 inch) Full HD+ Display\\n50MP + 2MP | 8MP Front Camera\\n5000 mAh Battery\\nMediatek Dimensity 6020 Processor\\n1 Year of Device & 6 Months for Inbox Accessories\\n₹11,999\\n₹17,99933% off\\nFree delivery\\nSave extra with combo offers\\nUpto \\n₹9,950\\n Off on Exchange', 'Add to Compare\\nvivo T2x 5G (Marine Blue, 128 GB)\\n4.41,69,688 Ratings & 9,044 Reviews\\n4 GB RAM | 128 GB ROM\\n16.71 cm (6.58 inch) Full HD+ Display\\n50MP + 2MP | 8MP Front Camera\\n5000 mAh Battery\\nMediatek Dimensity 6020 Processor\\n1 Year of Device & 6 Months for Inbox Accessories\\n₹11,999\\n₹17,99933% off\\nFree delivery\\nSave extra with combo offers\\nUpto \\n₹9,950\\n Off on Exchange', 'Add to Compare\\nvivo T2x 5G (Aurora Gold, 128 GB)\\n4.368,793 Ratings & 4,144 Reviews\\n8 GB RAM | 128 GB ROM\\n16.71 cm (6.58 inch) Full HD+ Display\\n50MP + 2MP | 8MP Front Camera\\n5000 mAh Battery\\nMediatek Dimensity 6020 Processor\\n1 Year of Device & 6 Months for Inbox Accessories\\n₹14,999\\n₹20,99928% off\\nFree delivery\\nSave extra with combo offers\\nUpto \\n₹8,600\\n Off on Exchange', 'Add to Compare\\nvivo T2x 5G (Black Gladiator, 128 GB)\\n4.368,793 Ratings & 4,144 Reviews\\n8 GB RAM | 128 GB ROM\\n16.71 cm (6.58 inch) Full HD+ Display\\n50MP + 2MP | 8MP Front Camera\\n5000 mAh Battery\\nMediatek Dimensity 6020 Processor\\n1 Year of Device & 6 Months for Inbox Accessories\\n₹14,999\\n₹20,99928% off\\nFree delivery\\nSave extra with combo offers\\nUpto \\n₹8,600\\n Off on Exchange', 'Add to Compare\\nMOTOROLA g24 Power (Glacier Blue, 128 GB)\\n4.25,730 Ratings & 584 Reviews\\n4 GB RAM | 128 GB ROM | Expandable Upto 1 TB\\n16.76 cm (6.6 inch) HD+ Display\\n50MP + 2MP | 16MP Front Camera\\n6000 mAh Battery\\nHelio G85 Processor\\n1 Year on Handset and 6 Months on Accessories\\n₹7,999\\n₹11,99933% off\\nFree delivery\\nSave extra with combo offers\\nUpto \\n₹7,400\\n Off on Exchange', 'Add to Compare\\nvivo T2x 5G (Black Gladiator, 128 GB)\\n4.41,69,688 Ratings & 9,044 Reviews\\n4 GB RAM | 128 GB ROM\\n16.71 cm (6.58 inch) Full HD+ Display\\n50MP + 2MP | 8MP Front Camera\\n5000 mAh Battery\\nMediatek Dimensity 6020 Processor\\n1 Year of Device & 6 Months for Inbox Accessories\\n₹11,999\\n₹17,99933% off\\nFree delivery\\nSave extra with combo offers\\nUpto \\n₹9,950\\n Off on Exchange', 'Add to Compare\\nvivo T2x 5G (Black Gladiator, 128 GB)\\n4.43,98,172 Ratings & 22,465 Reviews\\n6 GB RAM | 128 GB ROM\\n16.71 cm (6.58 inch) Full HD+ Display\\n50MP + 2MP | 8MP Front Camera\\n5000 mAh Battery\\nMediatek Dimensity 6020 Processor\\n1 Year of Device & 6 Months for Inbox Accessories\\n₹12,999\\n₹18,99931% off\\nFree delivery\\nSave extra with combo offers\\nUpto \\n₹10,100\\n Off on Exchange']\n",
      "['Bestseller\\nAdd to Compare\\nMotorola G34 5G (Ocean Green, 128 GB)\\n4.246,493 Ratings & 4,632 Reviews\\n8 GB RAM | 128 GB ROM\\n16.51 cm (6.5 inch) HD+ Display\\n50MP + 2MP | 16MP Front Camera\\n5000 mAh Battery\\nSnapdragon 695 5G Processor\\nVegan Leather Design\\n1 Year on Handset and 6 Months on Accessories\\n₹11,999\\n₹14,99920% off\\nFree delivery\\nSave extra with combo offers\\nUpto \\n₹11,150\\n Off on Exchange', 'Add to Compare\\nPOCO C51 - Locked with Airtel Prepaid (Royal Blue, 64 GB)\\n42,11,616 Ratings & 12,004 Reviews\\n4 GB RAM | 64 GB ROM | Expandable Upto 1 TB\\n16.56 cm (6.52 inch) HD+ Display\\n8MP Dual Rear Camera | 5MP Front Camera\\n5000 mAh Battery\\nHelio G36 Processor\\n1 Year Manufacturer Warranty for Phone and 6 Months Warranty for in the Box Accessories\\n₹4,999\\n₹9,99950% off\\nFree delivery\\nSave extra with combo offers\\nBank Offer', 'Add to Compare\\nMotorola G34 5G (Charcoal Black, 128 GB)\\n4.246,493 Ratings & 4,632 Reviews\\n8 GB RAM | 128 GB ROM\\n16.51 cm (6.5 inch) HD+ Display\\n50MP + 2MP | 16MP Front Camera\\n5000 mAh Battery\\nSnapdragon 695 5G Processor\\n1 Year on Handset and 6 Months on Accessories\\n₹11,999\\n₹14,99920% off\\nFree delivery\\nSave extra with combo offers\\nUpto \\n₹11,150\\n Off on Exchange', 'Add to Compare\\nMotorola G34 5G (Ice Blue, 128 GB)\\n4.246,493 Ratings & 4,632 Reviews\\n8 GB RAM | 128 GB ROM\\n16.51 cm (6.5 inch) HD+ Display\\n50MP + 2MP | 16MP Front Camera\\n5000 mAh Battery\\nSnapdragon 695 5G Processor\\n1 Year on Handset and 6 Months on Accessories\\n₹11,999\\n₹14,99920% off\\nFree delivery\\nSave extra with combo offers\\nUpto \\n₹11,150\\n Off on Exchange', 'Add to Compare\\nvivo T2x 5G (Glimmer Black, 128 GB)\\n4.43,98,172 Ratings & 22,465 Reviews\\n6 GB RAM | 128 GB ROM\\n16.71 cm (6.58 inch) Full HD+ Display\\n50MP + 2MP | 8MP Front Camera\\n5000 mAh Battery\\nMediatek Dimensity 6020 Processor\\n1 Year of Device & 6 Months for Inbox Accessories\\n₹15,199\\n₹18,99920% off\\nFree delivery\\nSave extra with combo offers\\nOnly 1 left', 'Add to Compare\\nvivo T2x 5G (Aurora Gold, 128 GB)\\n4.43,98,172 Ratings & 22,465 Reviews\\n6 GB RAM | 128 GB ROM\\n16.71 cm (6.58 inch) Full HD+ Display\\n50MP + 2MP | 8MP Front Camera\\n5000 mAh Battery\\nMediatek Dimensity 6020 Processor\\n1 Year of Device & 6 Months for Inbox Accessories\\n₹12,999\\n₹18,99931% off\\nFree delivery\\nSave extra with combo offers\\nUpto \\n₹10,100\\n Off on Exchange', 'Add to Compare\\nvivo T2x 5G (Sunstone Orange, 128 GB)\\n4.43,98,172 Ratings & 22,465 Reviews\\n6 GB RAM | 128 GB ROM\\n16.71 cm (6.58 inch) Full HD+ Display\\n50MP + 2MP | 8MP Front Camera\\n5000 mAh Battery\\nMediatek Dimensity 6020 Processor\\n1 Year of Device & 6 Months for Inbox Accessories\\n₹12,999\\n₹18,99931% off\\nFree delivery\\nSave extra with combo offers\\nUpto \\n₹10,100\\n Off on Exchange', 'Add to Compare\\nvivo T2x 5G (Marine Blue, 128 GB)\\n4.368,793 Ratings & 4,144 Reviews\\n8 GB RAM | 128 GB ROM\\n16.71 cm (6.58 inch) Full HD+ Display\\n50MP + 2MP | 8MP Front Camera\\n5000 mAh Battery\\nMediatek Dimensity 6020 Processor\\n1 Year of Device & 6 Months for Inbox Accessories\\n₹14,999\\n₹20,99928% off\\nFree delivery\\nSave extra with combo offers\\nUpto \\n₹8,600\\n Off on Exchange', 'Add to Compare\\nvivo T2x 5G (Sunstone Orange, 128 GB)\\n4.41,69,688 Ratings & 9,044 Reviews\\n4 GB RAM | 128 GB ROM\\n16.71 cm (6.58 inch) Full HD+ Display\\n50MP + 2MP | 8MP Front Camera\\n5000 mAh Battery\\nMediatek Dimensity 6020 Processor\\n1 Year of Device & 6 Months for Inbox Accessories\\n₹11,999\\n₹17,99933% off\\nFree delivery\\nSave extra with combo offers\\nUpto \\n₹9,950\\n Off on Exchange', 'Add to Compare\\nvivo T2x 5G (Marine Blue, 128 GB)\\n4.41,69,688 Ratings & 9,044 Reviews\\n4 GB RAM | 128 GB ROM\\n16.71 cm (6.58 inch) Full HD+ Display\\n50MP + 2MP | 8MP Front Camera\\n5000 mAh Battery\\nMediatek Dimensity 6020 Processor\\n1 Year of Device & 6 Months for Inbox Accessories\\n₹11,999\\n₹17,99933% off\\nFree delivery\\nSave extra with combo offers\\nUpto \\n₹9,950\\n Off on Exchange', 'Add to Compare\\nvivo T2x 5G (Aurora Gold, 128 GB)\\n4.368,793 Ratings & 4,144 Reviews\\n8 GB RAM | 128 GB ROM\\n16.71 cm (6.58 inch) Full HD+ Display\\n50MP + 2MP | 8MP Front Camera\\n5000 mAh Battery\\nMediatek Dimensity 6020 Processor\\n1 Year of Device & 6 Months for Inbox Accessories\\n₹14,999\\n₹20,99928% off\\nFree delivery\\nSave extra with combo offers\\nUpto \\n₹8,600\\n Off on Exchange', 'Add to Compare\\nvivo T2x 5G (Black Gladiator, 128 GB)\\n4.368,793 Ratings & 4,144 Reviews\\n8 GB RAM | 128 GB ROM\\n16.71 cm (6.58 inch) Full HD+ Display\\n50MP + 2MP | 8MP Front Camera\\n5000 mAh Battery\\nMediatek Dimensity 6020 Processor\\n1 Year of Device & 6 Months for Inbox Accessories\\n₹14,999\\n₹20,99928% off\\nFree delivery\\nSave extra with combo offers\\nUpto \\n₹8,600\\n Off on Exchange', 'Add to Compare\\nMOTOROLA g24 Power (Glacier Blue, 128 GB)\\n4.25,730 Ratings & 584 Reviews\\n4 GB RAM | 128 GB ROM | Expandable Upto 1 TB\\n16.76 cm (6.6 inch) HD+ Display\\n50MP + 2MP | 16MP Front Camera\\n6000 mAh Battery\\nHelio G85 Processor\\n1 Year on Handset and 6 Months on Accessories\\n₹7,999\\n₹11,99933% off\\nFree delivery\\nSave extra with combo offers\\nUpto \\n₹7,400\\n Off on Exchange', 'Add to Compare\\nvivo T2x 5G (Black Gladiator, 128 GB)\\n4.41,69,688 Ratings & 9,044 Reviews\\n4 GB RAM | 128 GB ROM\\n16.71 cm (6.58 inch) Full HD+ Display\\n50MP + 2MP | 8MP Front Camera\\n5000 mAh Battery\\nMediatek Dimensity 6020 Processor\\n1 Year of Device & 6 Months for Inbox Accessories\\n₹11,999\\n₹17,99933% off\\nFree delivery\\nSave extra with combo offers\\nUpto \\n₹9,950\\n Off on Exchange', 'Add to Compare\\nvivo T2x 5G (Black Gladiator, 128 GB)\\n4.43,98,172 Ratings & 22,465 Reviews\\n6 GB RAM | 128 GB ROM\\n16.71 cm (6.58 inch) Full HD+ Display\\n50MP + 2MP | 8MP Front Camera\\n5000 mAh Battery\\nMediatek Dimensity 6020 Processor\\n1 Year of Device & 6 Months for Inbox Accessories\\n₹12,999\\n₹18,99931% off\\nFree delivery\\nSave extra with combo offers\\nUpto \\n₹10,100\\n Off on Exchange', 'Add to Compare\\nMOTOROLA g24 Power (Ink blue, 128 GB)\\n4.25,730 Ratings & 584 Reviews\\n4 GB RAM | 128 GB ROM | Expandable Upto 1 TB\\n16.76 cm (6.6 inch) HD+ Display\\n50MP + 2MP | 16MP Front Camera\\n6000 mAh Battery\\nHelio G85 Processor\\n1 Year on Handset and 6 Months on Accessories\\n₹7,999\\n₹11,99933% off\\nFree delivery\\nSave extra with combo offers\\nUpto \\n₹7,400\\n Off on Exchange']\n",
      "['Bestseller\\nAdd to Compare\\nMotorola G34 5G (Ocean Green, 128 GB)\\n4.246,493 Ratings & 4,632 Reviews\\n8 GB RAM | 128 GB ROM\\n16.51 cm (6.5 inch) HD+ Display\\n50MP + 2MP | 16MP Front Camera\\n5000 mAh Battery\\nSnapdragon 695 5G Processor\\nVegan Leather Design\\n1 Year on Handset and 6 Months on Accessories\\n₹11,999\\n₹14,99920% off\\nFree delivery\\nSave extra with combo offers\\nUpto \\n₹11,150\\n Off on Exchange', 'Add to Compare\\nPOCO C51 - Locked with Airtel Prepaid (Royal Blue, 64 GB)\\n42,11,616 Ratings & 12,004 Reviews\\n4 GB RAM | 64 GB ROM | Expandable Upto 1 TB\\n16.56 cm (6.52 inch) HD+ Display\\n8MP Dual Rear Camera | 5MP Front Camera\\n5000 mAh Battery\\nHelio G36 Processor\\n1 Year Manufacturer Warranty for Phone and 6 Months Warranty for in the Box Accessories\\n₹4,999\\n₹9,99950% off\\nFree delivery\\nSave extra with combo offers\\nBank Offer', 'Add to Compare\\nMotorola G34 5G (Charcoal Black, 128 GB)\\n4.246,493 Ratings & 4,632 Reviews\\n8 GB RAM | 128 GB ROM\\n16.51 cm (6.5 inch) HD+ Display\\n50MP + 2MP | 16MP Front Camera\\n5000 mAh Battery\\nSnapdragon 695 5G Processor\\n1 Year on Handset and 6 Months on Accessories\\n₹11,999\\n₹14,99920% off\\nFree delivery\\nSave extra with combo offers\\nUpto \\n₹11,150\\n Off on Exchange', 'Add to Compare\\nMotorola G34 5G (Ice Blue, 128 GB)\\n4.246,493 Ratings & 4,632 Reviews\\n8 GB RAM | 128 GB ROM\\n16.51 cm (6.5 inch) HD+ Display\\n50MP + 2MP | 16MP Front Camera\\n5000 mAh Battery\\nSnapdragon 695 5G Processor\\n1 Year on Handset and 6 Months on Accessories\\n₹11,999\\n₹14,99920% off\\nFree delivery\\nSave extra with combo offers\\nUpto \\n₹11,150\\n Off on Exchange', 'Add to Compare\\nvivo T2x 5G (Glimmer Black, 128 GB)\\n4.43,98,172 Ratings & 22,465 Reviews\\n6 GB RAM | 128 GB ROM\\n16.71 cm (6.58 inch) Full HD+ Display\\n50MP + 2MP | 8MP Front Camera\\n5000 mAh Battery\\nMediatek Dimensity 6020 Processor\\n1 Year of Device & 6 Months for Inbox Accessories\\n₹15,199\\n₹18,99920% off\\nFree delivery\\nSave extra with combo offers\\nOnly 1 left', 'Add to Compare\\nvivo T2x 5G (Aurora Gold, 128 GB)\\n4.43,98,172 Ratings & 22,465 Reviews\\n6 GB RAM | 128 GB ROM\\n16.71 cm (6.58 inch) Full HD+ Display\\n50MP + 2MP | 8MP Front Camera\\n5000 mAh Battery\\nMediatek Dimensity 6020 Processor\\n1 Year of Device & 6 Months for Inbox Accessories\\n₹12,999\\n₹18,99931% off\\nFree delivery\\nSave extra with combo offers\\nUpto \\n₹10,100\\n Off on Exchange', 'Add to Compare\\nvivo T2x 5G (Sunstone Orange, 128 GB)\\n4.43,98,172 Ratings & 22,465 Reviews\\n6 GB RAM | 128 GB ROM\\n16.71 cm (6.58 inch) Full HD+ Display\\n50MP + 2MP | 8MP Front Camera\\n5000 mAh Battery\\nMediatek Dimensity 6020 Processor\\n1 Year of Device & 6 Months for Inbox Accessories\\n₹12,999\\n₹18,99931% off\\nFree delivery\\nSave extra with combo offers\\nUpto \\n₹10,100\\n Off on Exchange', 'Add to Compare\\nvivo T2x 5G (Marine Blue, 128 GB)\\n4.368,793 Ratings & 4,144 Reviews\\n8 GB RAM | 128 GB ROM\\n16.71 cm (6.58 inch) Full HD+ Display\\n50MP + 2MP | 8MP Front Camera\\n5000 mAh Battery\\nMediatek Dimensity 6020 Processor\\n1 Year of Device & 6 Months for Inbox Accessories\\n₹14,999\\n₹20,99928% off\\nFree delivery\\nSave extra with combo offers\\nUpto \\n₹8,600\\n Off on Exchange', 'Add to Compare\\nvivo T2x 5G (Sunstone Orange, 128 GB)\\n4.41,69,688 Ratings & 9,044 Reviews\\n4 GB RAM | 128 GB ROM\\n16.71 cm (6.58 inch) Full HD+ Display\\n50MP + 2MP | 8MP Front Camera\\n5000 mAh Battery\\nMediatek Dimensity 6020 Processor\\n1 Year of Device & 6 Months for Inbox Accessories\\n₹11,999\\n₹17,99933% off\\nFree delivery\\nSave extra with combo offers\\nUpto \\n₹9,950\\n Off on Exchange', 'Add to Compare\\nvivo T2x 5G (Marine Blue, 128 GB)\\n4.41,69,688 Ratings & 9,044 Reviews\\n4 GB RAM | 128 GB ROM\\n16.71 cm (6.58 inch) Full HD+ Display\\n50MP + 2MP | 8MP Front Camera\\n5000 mAh Battery\\nMediatek Dimensity 6020 Processor\\n1 Year of Device & 6 Months for Inbox Accessories\\n₹11,999\\n₹17,99933% off\\nFree delivery\\nSave extra with combo offers\\nUpto \\n₹9,950\\n Off on Exchange', 'Add to Compare\\nvivo T2x 5G (Aurora Gold, 128 GB)\\n4.368,793 Ratings & 4,144 Reviews\\n8 GB RAM | 128 GB ROM\\n16.71 cm (6.58 inch) Full HD+ Display\\n50MP + 2MP | 8MP Front Camera\\n5000 mAh Battery\\nMediatek Dimensity 6020 Processor\\n1 Year of Device & 6 Months for Inbox Accessories\\n₹14,999\\n₹20,99928% off\\nFree delivery\\nSave extra with combo offers\\nUpto \\n₹8,600\\n Off on Exchange', 'Add to Compare\\nvivo T2x 5G (Black Gladiator, 128 GB)\\n4.368,793 Ratings & 4,144 Reviews\\n8 GB RAM | 128 GB ROM\\n16.71 cm (6.58 inch) Full HD+ Display\\n50MP + 2MP | 8MP Front Camera\\n5000 mAh Battery\\nMediatek Dimensity 6020 Processor\\n1 Year of Device & 6 Months for Inbox Accessories\\n₹14,999\\n₹20,99928% off\\nFree delivery\\nSave extra with combo offers\\nUpto \\n₹8,600\\n Off on Exchange', 'Add to Compare\\nMOTOROLA g24 Power (Glacier Blue, 128 GB)\\n4.25,730 Ratings & 584 Reviews\\n4 GB RAM | 128 GB ROM | Expandable Upto 1 TB\\n16.76 cm (6.6 inch) HD+ Display\\n50MP + 2MP | 16MP Front Camera\\n6000 mAh Battery\\nHelio G85 Processor\\n1 Year on Handset and 6 Months on Accessories\\n₹7,999\\n₹11,99933% off\\nFree delivery\\nSave extra with combo offers\\nUpto \\n₹7,400\\n Off on Exchange', 'Add to Compare\\nvivo T2x 5G (Black Gladiator, 128 GB)\\n4.41,69,688 Ratings & 9,044 Reviews\\n4 GB RAM | 128 GB ROM\\n16.71 cm (6.58 inch) Full HD+ Display\\n50MP + 2MP | 8MP Front Camera\\n5000 mAh Battery\\nMediatek Dimensity 6020 Processor\\n1 Year of Device & 6 Months for Inbox Accessories\\n₹11,999\\n₹17,99933% off\\nFree delivery\\nSave extra with combo offers\\nUpto \\n₹9,950\\n Off on Exchange', 'Add to Compare\\nvivo T2x 5G (Black Gladiator, 128 GB)\\n4.43,98,172 Ratings & 22,465 Reviews\\n6 GB RAM | 128 GB ROM\\n16.71 cm (6.58 inch) Full HD+ Display\\n50MP + 2MP | 8MP Front Camera\\n5000 mAh Battery\\nMediatek Dimensity 6020 Processor\\n1 Year of Device & 6 Months for Inbox Accessories\\n₹12,999\\n₹18,99931% off\\nFree delivery\\nSave extra with combo offers\\nUpto \\n₹10,100\\n Off on Exchange', 'Add to Compare\\nMOTOROLA g24 Power (Ink blue, 128 GB)\\n4.25,730 Ratings & 584 Reviews\\n4 GB RAM | 128 GB ROM | Expandable Upto 1 TB\\n16.76 cm (6.6 inch) HD+ Display\\n50MP + 2MP | 16MP Front Camera\\n6000 mAh Battery\\nHelio G85 Processor\\n1 Year on Handset and 6 Months on Accessories\\n₹7,999\\n₹11,99933% off\\nFree delivery\\nSave extra with combo offers\\nUpto \\n₹7,400\\n Off on Exchange', 'Add to Compare\\nOnePlus Nord CE 3 Lite 5G (Pastel Lime, 128 GB)\\n4.460,527 Ratings & 4,206 Reviews\\n8 GB RAM | 128 GB ROM\\n17.07 cm (6.72 inch) Display\\n108MP Rear Camera\\n5000 mAh Battery\\nDomestic Warranty of 12 months on phone & 6 months on accessories\\n₹17,416\\n₹19,99912% off\\nFree delivery\\nBank Offer']\n",
      "['Bestseller\\nAdd to Compare\\nMotorola G34 5G (Ocean Green, 128 GB)\\n4.246,493 Ratings & 4,632 Reviews\\n8 GB RAM | 128 GB ROM\\n16.51 cm (6.5 inch) HD+ Display\\n50MP + 2MP | 16MP Front Camera\\n5000 mAh Battery\\nSnapdragon 695 5G Processor\\nVegan Leather Design\\n1 Year on Handset and 6 Months on Accessories\\n₹11,999\\n₹14,99920% off\\nFree delivery\\nSave extra with combo offers\\nUpto \\n₹11,150\\n Off on Exchange', 'Add to Compare\\nPOCO C51 - Locked with Airtel Prepaid (Royal Blue, 64 GB)\\n42,11,616 Ratings & 12,004 Reviews\\n4 GB RAM | 64 GB ROM | Expandable Upto 1 TB\\n16.56 cm (6.52 inch) HD+ Display\\n8MP Dual Rear Camera | 5MP Front Camera\\n5000 mAh Battery\\nHelio G36 Processor\\n1 Year Manufacturer Warranty for Phone and 6 Months Warranty for in the Box Accessories\\n₹4,999\\n₹9,99950% off\\nFree delivery\\nSave extra with combo offers\\nBank Offer', 'Add to Compare\\nMotorola G34 5G (Charcoal Black, 128 GB)\\n4.246,493 Ratings & 4,632 Reviews\\n8 GB RAM | 128 GB ROM\\n16.51 cm (6.5 inch) HD+ Display\\n50MP + 2MP | 16MP Front Camera\\n5000 mAh Battery\\nSnapdragon 695 5G Processor\\n1 Year on Handset and 6 Months on Accessories\\n₹11,999\\n₹14,99920% off\\nFree delivery\\nSave extra with combo offers\\nUpto \\n₹11,150\\n Off on Exchange', 'Add to Compare\\nMotorola G34 5G (Ice Blue, 128 GB)\\n4.246,493 Ratings & 4,632 Reviews\\n8 GB RAM | 128 GB ROM\\n16.51 cm (6.5 inch) HD+ Display\\n50MP + 2MP | 16MP Front Camera\\n5000 mAh Battery\\nSnapdragon 695 5G Processor\\n1 Year on Handset and 6 Months on Accessories\\n₹11,999\\n₹14,99920% off\\nFree delivery\\nSave extra with combo offers\\nUpto \\n₹11,150\\n Off on Exchange', 'Add to Compare\\nvivo T2x 5G (Glimmer Black, 128 GB)\\n4.43,98,172 Ratings & 22,465 Reviews\\n6 GB RAM | 128 GB ROM\\n16.71 cm (6.58 inch) Full HD+ Display\\n50MP + 2MP | 8MP Front Camera\\n5000 mAh Battery\\nMediatek Dimensity 6020 Processor\\n1 Year of Device & 6 Months for Inbox Accessories\\n₹15,199\\n₹18,99920% off\\nFree delivery\\nSave extra with combo offers\\nOnly 1 left', 'Add to Compare\\nvivo T2x 5G (Aurora Gold, 128 GB)\\n4.43,98,172 Ratings & 22,465 Reviews\\n6 GB RAM | 128 GB ROM\\n16.71 cm (6.58 inch) Full HD+ Display\\n50MP + 2MP | 8MP Front Camera\\n5000 mAh Battery\\nMediatek Dimensity 6020 Processor\\n1 Year of Device & 6 Months for Inbox Accessories\\n₹12,999\\n₹18,99931% off\\nFree delivery\\nSave extra with combo offers\\nUpto \\n₹10,100\\n Off on Exchange', 'Add to Compare\\nvivo T2x 5G (Sunstone Orange, 128 GB)\\n4.43,98,172 Ratings & 22,465 Reviews\\n6 GB RAM | 128 GB ROM\\n16.71 cm (6.58 inch) Full HD+ Display\\n50MP + 2MP | 8MP Front Camera\\n5000 mAh Battery\\nMediatek Dimensity 6020 Processor\\n1 Year of Device & 6 Months for Inbox Accessories\\n₹12,999\\n₹18,99931% off\\nFree delivery\\nSave extra with combo offers\\nUpto \\n₹10,100\\n Off on Exchange', 'Add to Compare\\nvivo T2x 5G (Marine Blue, 128 GB)\\n4.368,793 Ratings & 4,144 Reviews\\n8 GB RAM | 128 GB ROM\\n16.71 cm (6.58 inch) Full HD+ Display\\n50MP + 2MP | 8MP Front Camera\\n5000 mAh Battery\\nMediatek Dimensity 6020 Processor\\n1 Year of Device & 6 Months for Inbox Accessories\\n₹14,999\\n₹20,99928% off\\nFree delivery\\nSave extra with combo offers\\nUpto \\n₹8,600\\n Off on Exchange', 'Add to Compare\\nvivo T2x 5G (Sunstone Orange, 128 GB)\\n4.41,69,688 Ratings & 9,044 Reviews\\n4 GB RAM | 128 GB ROM\\n16.71 cm (6.58 inch) Full HD+ Display\\n50MP + 2MP | 8MP Front Camera\\n5000 mAh Battery\\nMediatek Dimensity 6020 Processor\\n1 Year of Device & 6 Months for Inbox Accessories\\n₹11,999\\n₹17,99933% off\\nFree delivery\\nSave extra with combo offers\\nUpto \\n₹9,950\\n Off on Exchange', 'Add to Compare\\nvivo T2x 5G (Marine Blue, 128 GB)\\n4.41,69,688 Ratings & 9,044 Reviews\\n4 GB RAM | 128 GB ROM\\n16.71 cm (6.58 inch) Full HD+ Display\\n50MP + 2MP | 8MP Front Camera\\n5000 mAh Battery\\nMediatek Dimensity 6020 Processor\\n1 Year of Device & 6 Months for Inbox Accessories\\n₹11,999\\n₹17,99933% off\\nFree delivery\\nSave extra with combo offers\\nUpto \\n₹9,950\\n Off on Exchange', 'Add to Compare\\nvivo T2x 5G (Aurora Gold, 128 GB)\\n4.368,793 Ratings & 4,144 Reviews\\n8 GB RAM | 128 GB ROM\\n16.71 cm (6.58 inch) Full HD+ Display\\n50MP + 2MP | 8MP Front Camera\\n5000 mAh Battery\\nMediatek Dimensity 6020 Processor\\n1 Year of Device & 6 Months for Inbox Accessories\\n₹14,999\\n₹20,99928% off\\nFree delivery\\nSave extra with combo offers\\nUpto \\n₹8,600\\n Off on Exchange', 'Add to Compare\\nvivo T2x 5G (Black Gladiator, 128 GB)\\n4.368,793 Ratings & 4,144 Reviews\\n8 GB RAM | 128 GB ROM\\n16.71 cm (6.58 inch) Full HD+ Display\\n50MP + 2MP | 8MP Front Camera\\n5000 mAh Battery\\nMediatek Dimensity 6020 Processor\\n1 Year of Device & 6 Months for Inbox Accessories\\n₹14,999\\n₹20,99928% off\\nFree delivery\\nSave extra with combo offers\\nUpto \\n₹8,600\\n Off on Exchange', 'Add to Compare\\nMOTOROLA g24 Power (Glacier Blue, 128 GB)\\n4.25,730 Ratings & 584 Reviews\\n4 GB RAM | 128 GB ROM | Expandable Upto 1 TB\\n16.76 cm (6.6 inch) HD+ Display\\n50MP + 2MP | 16MP Front Camera\\n6000 mAh Battery\\nHelio G85 Processor\\n1 Year on Handset and 6 Months on Accessories\\n₹7,999\\n₹11,99933% off\\nFree delivery\\nSave extra with combo offers\\nUpto \\n₹7,400\\n Off on Exchange', 'Add to Compare\\nvivo T2x 5G (Black Gladiator, 128 GB)\\n4.41,69,688 Ratings & 9,044 Reviews\\n4 GB RAM | 128 GB ROM\\n16.71 cm (6.58 inch) Full HD+ Display\\n50MP + 2MP | 8MP Front Camera\\n5000 mAh Battery\\nMediatek Dimensity 6020 Processor\\n1 Year of Device & 6 Months for Inbox Accessories\\n₹11,999\\n₹17,99933% off\\nFree delivery\\nSave extra with combo offers\\nUpto \\n₹9,950\\n Off on Exchange', 'Add to Compare\\nvivo T2x 5G (Black Gladiator, 128 GB)\\n4.43,98,172 Ratings & 22,465 Reviews\\n6 GB RAM | 128 GB ROM\\n16.71 cm (6.58 inch) Full HD+ Display\\n50MP + 2MP | 8MP Front Camera\\n5000 mAh Battery\\nMediatek Dimensity 6020 Processor\\n1 Year of Device & 6 Months for Inbox Accessories\\n₹12,999\\n₹18,99931% off\\nFree delivery\\nSave extra with combo offers\\nUpto \\n₹10,100\\n Off on Exchange', 'Add to Compare\\nMOTOROLA g24 Power (Ink blue, 128 GB)\\n4.25,730 Ratings & 584 Reviews\\n4 GB RAM | 128 GB ROM | Expandable Upto 1 TB\\n16.76 cm (6.6 inch) HD+ Display\\n50MP + 2MP | 16MP Front Camera\\n6000 mAh Battery\\nHelio G85 Processor\\n1 Year on Handset and 6 Months on Accessories\\n₹7,999\\n₹11,99933% off\\nFree delivery\\nSave extra with combo offers\\nUpto \\n₹7,400\\n Off on Exchange', 'Add to Compare\\nOnePlus Nord CE 3 Lite 5G (Pastel Lime, 128 GB)\\n4.460,527 Ratings & 4,206 Reviews\\n8 GB RAM | 128 GB ROM\\n17.07 cm (6.72 inch) Display\\n108MP Rear Camera\\n5000 mAh Battery\\nDomestic Warranty of 12 months on phone & 6 months on accessories\\n₹17,416\\n₹19,99912% off\\nFree delivery\\nBank Offer', 'Add to Compare\\nOnePlus Nord CE 3 Lite 5G (Chromatic Gray, 256 GB)\\n4.460,527 Ratings & 4,206 Reviews\\n8 GB RAM | 256 GB ROM\\n17.07 cm (6.72 inch) Display\\n108MP Rear Camera\\n5000 mAh Battery\\nDomestic Warranty of 12 months on phone & 6 months on accessories\\n₹19,685\\n₹21,99910% off\\nFree delivery\\nSave extra with combo offers\\nOnly 2 left']\n",
      "['Bestseller\\nAdd to Compare\\nMotorola G34 5G (Ocean Green, 128 GB)\\n4.246,493 Ratings & 4,632 Reviews\\n8 GB RAM | 128 GB ROM\\n16.51 cm (6.5 inch) HD+ Display\\n50MP + 2MP | 16MP Front Camera\\n5000 mAh Battery\\nSnapdragon 695 5G Processor\\nVegan Leather Design\\n1 Year on Handset and 6 Months on Accessories\\n₹11,999\\n₹14,99920% off\\nFree delivery\\nSave extra with combo offers\\nUpto \\n₹11,150\\n Off on Exchange', 'Add to Compare\\nPOCO C51 - Locked with Airtel Prepaid (Royal Blue, 64 GB)\\n42,11,616 Ratings & 12,004 Reviews\\n4 GB RAM | 64 GB ROM | Expandable Upto 1 TB\\n16.56 cm (6.52 inch) HD+ Display\\n8MP Dual Rear Camera | 5MP Front Camera\\n5000 mAh Battery\\nHelio G36 Processor\\n1 Year Manufacturer Warranty for Phone and 6 Months Warranty for in the Box Accessories\\n₹4,999\\n₹9,99950% off\\nFree delivery\\nSave extra with combo offers\\nBank Offer', 'Add to Compare\\nMotorola G34 5G (Charcoal Black, 128 GB)\\n4.246,493 Ratings & 4,632 Reviews\\n8 GB RAM | 128 GB ROM\\n16.51 cm (6.5 inch) HD+ Display\\n50MP + 2MP | 16MP Front Camera\\n5000 mAh Battery\\nSnapdragon 695 5G Processor\\n1 Year on Handset and 6 Months on Accessories\\n₹11,999\\n₹14,99920% off\\nFree delivery\\nSave extra with combo offers\\nUpto \\n₹11,150\\n Off on Exchange', 'Add to Compare\\nMotorola G34 5G (Ice Blue, 128 GB)\\n4.246,493 Ratings & 4,632 Reviews\\n8 GB RAM | 128 GB ROM\\n16.51 cm (6.5 inch) HD+ Display\\n50MP + 2MP | 16MP Front Camera\\n5000 mAh Battery\\nSnapdragon 695 5G Processor\\n1 Year on Handset and 6 Months on Accessories\\n₹11,999\\n₹14,99920% off\\nFree delivery\\nSave extra with combo offers\\nUpto \\n₹11,150\\n Off on Exchange', 'Add to Compare\\nvivo T2x 5G (Glimmer Black, 128 GB)\\n4.43,98,172 Ratings & 22,465 Reviews\\n6 GB RAM | 128 GB ROM\\n16.71 cm (6.58 inch) Full HD+ Display\\n50MP + 2MP | 8MP Front Camera\\n5000 mAh Battery\\nMediatek Dimensity 6020 Processor\\n1 Year of Device & 6 Months for Inbox Accessories\\n₹15,199\\n₹18,99920% off\\nFree delivery\\nSave extra with combo offers\\nOnly 1 left', 'Add to Compare\\nvivo T2x 5G (Aurora Gold, 128 GB)\\n4.43,98,172 Ratings & 22,465 Reviews\\n6 GB RAM | 128 GB ROM\\n16.71 cm (6.58 inch) Full HD+ Display\\n50MP + 2MP | 8MP Front Camera\\n5000 mAh Battery\\nMediatek Dimensity 6020 Processor\\n1 Year of Device & 6 Months for Inbox Accessories\\n₹12,999\\n₹18,99931% off\\nFree delivery\\nSave extra with combo offers\\nUpto \\n₹10,100\\n Off on Exchange', 'Add to Compare\\nvivo T2x 5G (Sunstone Orange, 128 GB)\\n4.43,98,172 Ratings & 22,465 Reviews\\n6 GB RAM | 128 GB ROM\\n16.71 cm (6.58 inch) Full HD+ Display\\n50MP + 2MP | 8MP Front Camera\\n5000 mAh Battery\\nMediatek Dimensity 6020 Processor\\n1 Year of Device & 6 Months for Inbox Accessories\\n₹12,999\\n₹18,99931% off\\nFree delivery\\nSave extra with combo offers\\nUpto \\n₹10,100\\n Off on Exchange', 'Add to Compare\\nvivo T2x 5G (Marine Blue, 128 GB)\\n4.368,793 Ratings & 4,144 Reviews\\n8 GB RAM | 128 GB ROM\\n16.71 cm (6.58 inch) Full HD+ Display\\n50MP + 2MP | 8MP Front Camera\\n5000 mAh Battery\\nMediatek Dimensity 6020 Processor\\n1 Year of Device & 6 Months for Inbox Accessories\\n₹14,999\\n₹20,99928% off\\nFree delivery\\nSave extra with combo offers\\nUpto \\n₹8,600\\n Off on Exchange', 'Add to Compare\\nvivo T2x 5G (Sunstone Orange, 128 GB)\\n4.41,69,688 Ratings & 9,044 Reviews\\n4 GB RAM | 128 GB ROM\\n16.71 cm (6.58 inch) Full HD+ Display\\n50MP + 2MP | 8MP Front Camera\\n5000 mAh Battery\\nMediatek Dimensity 6020 Processor\\n1 Year of Device & 6 Months for Inbox Accessories\\n₹11,999\\n₹17,99933% off\\nFree delivery\\nSave extra with combo offers\\nUpto \\n₹9,950\\n Off on Exchange', 'Add to Compare\\nvivo T2x 5G (Marine Blue, 128 GB)\\n4.41,69,688 Ratings & 9,044 Reviews\\n4 GB RAM | 128 GB ROM\\n16.71 cm (6.58 inch) Full HD+ Display\\n50MP + 2MP | 8MP Front Camera\\n5000 mAh Battery\\nMediatek Dimensity 6020 Processor\\n1 Year of Device & 6 Months for Inbox Accessories\\n₹11,999\\n₹17,99933% off\\nFree delivery\\nSave extra with combo offers\\nUpto \\n₹9,950\\n Off on Exchange', 'Add to Compare\\nvivo T2x 5G (Aurora Gold, 128 GB)\\n4.368,793 Ratings & 4,144 Reviews\\n8 GB RAM | 128 GB ROM\\n16.71 cm (6.58 inch) Full HD+ Display\\n50MP + 2MP | 8MP Front Camera\\n5000 mAh Battery\\nMediatek Dimensity 6020 Processor\\n1 Year of Device & 6 Months for Inbox Accessories\\n₹14,999\\n₹20,99928% off\\nFree delivery\\nSave extra with combo offers\\nUpto \\n₹8,600\\n Off on Exchange', 'Add to Compare\\nvivo T2x 5G (Black Gladiator, 128 GB)\\n4.368,793 Ratings & 4,144 Reviews\\n8 GB RAM | 128 GB ROM\\n16.71 cm (6.58 inch) Full HD+ Display\\n50MP + 2MP | 8MP Front Camera\\n5000 mAh Battery\\nMediatek Dimensity 6020 Processor\\n1 Year of Device & 6 Months for Inbox Accessories\\n₹14,999\\n₹20,99928% off\\nFree delivery\\nSave extra with combo offers\\nUpto \\n₹8,600\\n Off on Exchange', 'Add to Compare\\nMOTOROLA g24 Power (Glacier Blue, 128 GB)\\n4.25,730 Ratings & 584 Reviews\\n4 GB RAM | 128 GB ROM | Expandable Upto 1 TB\\n16.76 cm (6.6 inch) HD+ Display\\n50MP + 2MP | 16MP Front Camera\\n6000 mAh Battery\\nHelio G85 Processor\\n1 Year on Handset and 6 Months on Accessories\\n₹7,999\\n₹11,99933% off\\nFree delivery\\nSave extra with combo offers\\nUpto \\n₹7,400\\n Off on Exchange', 'Add to Compare\\nvivo T2x 5G (Black Gladiator, 128 GB)\\n4.41,69,688 Ratings & 9,044 Reviews\\n4 GB RAM | 128 GB ROM\\n16.71 cm (6.58 inch) Full HD+ Display\\n50MP + 2MP | 8MP Front Camera\\n5000 mAh Battery\\nMediatek Dimensity 6020 Processor\\n1 Year of Device & 6 Months for Inbox Accessories\\n₹11,999\\n₹17,99933% off\\nFree delivery\\nSave extra with combo offers\\nUpto \\n₹9,950\\n Off on Exchange', 'Add to Compare\\nvivo T2x 5G (Black Gladiator, 128 GB)\\n4.43,98,172 Ratings & 22,465 Reviews\\n6 GB RAM | 128 GB ROM\\n16.71 cm (6.58 inch) Full HD+ Display\\n50MP + 2MP | 8MP Front Camera\\n5000 mAh Battery\\nMediatek Dimensity 6020 Processor\\n1 Year of Device & 6 Months for Inbox Accessories\\n₹12,999\\n₹18,99931% off\\nFree delivery\\nSave extra with combo offers\\nUpto \\n₹10,100\\n Off on Exchange', 'Add to Compare\\nMOTOROLA g24 Power (Ink blue, 128 GB)\\n4.25,730 Ratings & 584 Reviews\\n4 GB RAM | 128 GB ROM | Expandable Upto 1 TB\\n16.76 cm (6.6 inch) HD+ Display\\n50MP + 2MP | 16MP Front Camera\\n6000 mAh Battery\\nHelio G85 Processor\\n1 Year on Handset and 6 Months on Accessories\\n₹7,999\\n₹11,99933% off\\nFree delivery\\nSave extra with combo offers\\nUpto \\n₹7,400\\n Off on Exchange', 'Add to Compare\\nOnePlus Nord CE 3 Lite 5G (Pastel Lime, 128 GB)\\n4.460,527 Ratings & 4,206 Reviews\\n8 GB RAM | 128 GB ROM\\n17.07 cm (6.72 inch) Display\\n108MP Rear Camera\\n5000 mAh Battery\\nDomestic Warranty of 12 months on phone & 6 months on accessories\\n₹17,416\\n₹19,99912% off\\nFree delivery\\nBank Offer', 'Add to Compare\\nOnePlus Nord CE 3 Lite 5G (Chromatic Gray, 256 GB)\\n4.460,527 Ratings & 4,206 Reviews\\n8 GB RAM | 256 GB ROM\\n17.07 cm (6.72 inch) Display\\n108MP Rear Camera\\n5000 mAh Battery\\nDomestic Warranty of 12 months on phone & 6 months on accessories\\n₹19,685\\n₹21,99910% off\\nFree delivery\\nSave extra with combo offers\\nOnly 2 left', 'Add to Compare\\nOnePlus Nord CE 3 Lite 5G (Pastel Lime, 256 GB)\\n4.460,527 Ratings & 4,206 Reviews\\n8 GB RAM | 256 GB ROM\\n17.07 cm (6.72 inch) Display\\n108MP Rear Camera\\n5000 mAh Battery\\nDomestic Warranty of 12 months on phone & 6 months on accessories\\n₹19,518\\n₹21,99911% off\\nFree delivery\\nOnly 2 left\\nBank Offer']\n",
      "['Bestseller\\nAdd to Compare\\nMotorola G34 5G (Ocean Green, 128 GB)\\n4.246,493 Ratings & 4,632 Reviews\\n8 GB RAM | 128 GB ROM\\n16.51 cm (6.5 inch) HD+ Display\\n50MP + 2MP | 16MP Front Camera\\n5000 mAh Battery\\nSnapdragon 695 5G Processor\\nVegan Leather Design\\n1 Year on Handset and 6 Months on Accessories\\n₹11,999\\n₹14,99920% off\\nFree delivery\\nSave extra with combo offers\\nUpto \\n₹11,150\\n Off on Exchange', 'Add to Compare\\nPOCO C51 - Locked with Airtel Prepaid (Royal Blue, 64 GB)\\n42,11,616 Ratings & 12,004 Reviews\\n4 GB RAM | 64 GB ROM | Expandable Upto 1 TB\\n16.56 cm (6.52 inch) HD+ Display\\n8MP Dual Rear Camera | 5MP Front Camera\\n5000 mAh Battery\\nHelio G36 Processor\\n1 Year Manufacturer Warranty for Phone and 6 Months Warranty for in the Box Accessories\\n₹4,999\\n₹9,99950% off\\nFree delivery\\nSave extra with combo offers\\nBank Offer', 'Add to Compare\\nMotorola G34 5G (Charcoal Black, 128 GB)\\n4.246,493 Ratings & 4,632 Reviews\\n8 GB RAM | 128 GB ROM\\n16.51 cm (6.5 inch) HD+ Display\\n50MP + 2MP | 16MP Front Camera\\n5000 mAh Battery\\nSnapdragon 695 5G Processor\\n1 Year on Handset and 6 Months on Accessories\\n₹11,999\\n₹14,99920% off\\nFree delivery\\nSave extra with combo offers\\nUpto \\n₹11,150\\n Off on Exchange', 'Add to Compare\\nMotorola G34 5G (Ice Blue, 128 GB)\\n4.246,493 Ratings & 4,632 Reviews\\n8 GB RAM | 128 GB ROM\\n16.51 cm (6.5 inch) HD+ Display\\n50MP + 2MP | 16MP Front Camera\\n5000 mAh Battery\\nSnapdragon 695 5G Processor\\n1 Year on Handset and 6 Months on Accessories\\n₹11,999\\n₹14,99920% off\\nFree delivery\\nSave extra with combo offers\\nUpto \\n₹11,150\\n Off on Exchange', 'Add to Compare\\nvivo T2x 5G (Glimmer Black, 128 GB)\\n4.43,98,172 Ratings & 22,465 Reviews\\n6 GB RAM | 128 GB ROM\\n16.71 cm (6.58 inch) Full HD+ Display\\n50MP + 2MP | 8MP Front Camera\\n5000 mAh Battery\\nMediatek Dimensity 6020 Processor\\n1 Year of Device & 6 Months for Inbox Accessories\\n₹15,199\\n₹18,99920% off\\nFree delivery\\nSave extra with combo offers\\nOnly 1 left', 'Add to Compare\\nvivo T2x 5G (Aurora Gold, 128 GB)\\n4.43,98,172 Ratings & 22,465 Reviews\\n6 GB RAM | 128 GB ROM\\n16.71 cm (6.58 inch) Full HD+ Display\\n50MP + 2MP | 8MP Front Camera\\n5000 mAh Battery\\nMediatek Dimensity 6020 Processor\\n1 Year of Device & 6 Months for Inbox Accessories\\n₹12,999\\n₹18,99931% off\\nFree delivery\\nSave extra with combo offers\\nUpto \\n₹10,100\\n Off on Exchange', 'Add to Compare\\nvivo T2x 5G (Sunstone Orange, 128 GB)\\n4.43,98,172 Ratings & 22,465 Reviews\\n6 GB RAM | 128 GB ROM\\n16.71 cm (6.58 inch) Full HD+ Display\\n50MP + 2MP | 8MP Front Camera\\n5000 mAh Battery\\nMediatek Dimensity 6020 Processor\\n1 Year of Device & 6 Months for Inbox Accessories\\n₹12,999\\n₹18,99931% off\\nFree delivery\\nSave extra with combo offers\\nUpto \\n₹10,100\\n Off on Exchange', 'Add to Compare\\nvivo T2x 5G (Marine Blue, 128 GB)\\n4.368,793 Ratings & 4,144 Reviews\\n8 GB RAM | 128 GB ROM\\n16.71 cm (6.58 inch) Full HD+ Display\\n50MP + 2MP | 8MP Front Camera\\n5000 mAh Battery\\nMediatek Dimensity 6020 Processor\\n1 Year of Device & 6 Months for Inbox Accessories\\n₹14,999\\n₹20,99928% off\\nFree delivery\\nSave extra with combo offers\\nUpto \\n₹8,600\\n Off on Exchange', 'Add to Compare\\nvivo T2x 5G (Sunstone Orange, 128 GB)\\n4.41,69,688 Ratings & 9,044 Reviews\\n4 GB RAM | 128 GB ROM\\n16.71 cm (6.58 inch) Full HD+ Display\\n50MP + 2MP | 8MP Front Camera\\n5000 mAh Battery\\nMediatek Dimensity 6020 Processor\\n1 Year of Device & 6 Months for Inbox Accessories\\n₹11,999\\n₹17,99933% off\\nFree delivery\\nSave extra with combo offers\\nUpto \\n₹9,950\\n Off on Exchange', 'Add to Compare\\nvivo T2x 5G (Marine Blue, 128 GB)\\n4.41,69,688 Ratings & 9,044 Reviews\\n4 GB RAM | 128 GB ROM\\n16.71 cm (6.58 inch) Full HD+ Display\\n50MP + 2MP | 8MP Front Camera\\n5000 mAh Battery\\nMediatek Dimensity 6020 Processor\\n1 Year of Device & 6 Months for Inbox Accessories\\n₹11,999\\n₹17,99933% off\\nFree delivery\\nSave extra with combo offers\\nUpto \\n₹9,950\\n Off on Exchange', 'Add to Compare\\nvivo T2x 5G (Aurora Gold, 128 GB)\\n4.368,793 Ratings & 4,144 Reviews\\n8 GB RAM | 128 GB ROM\\n16.71 cm (6.58 inch) Full HD+ Display\\n50MP + 2MP | 8MP Front Camera\\n5000 mAh Battery\\nMediatek Dimensity 6020 Processor\\n1 Year of Device & 6 Months for Inbox Accessories\\n₹14,999\\n₹20,99928% off\\nFree delivery\\nSave extra with combo offers\\nUpto \\n₹8,600\\n Off on Exchange', 'Add to Compare\\nvivo T2x 5G (Black Gladiator, 128 GB)\\n4.368,793 Ratings & 4,144 Reviews\\n8 GB RAM | 128 GB ROM\\n16.71 cm (6.58 inch) Full HD+ Display\\n50MP + 2MP | 8MP Front Camera\\n5000 mAh Battery\\nMediatek Dimensity 6020 Processor\\n1 Year of Device & 6 Months for Inbox Accessories\\n₹14,999\\n₹20,99928% off\\nFree delivery\\nSave extra with combo offers\\nUpto \\n₹8,600\\n Off on Exchange', 'Add to Compare\\nMOTOROLA g24 Power (Glacier Blue, 128 GB)\\n4.25,730 Ratings & 584 Reviews\\n4 GB RAM | 128 GB ROM | Expandable Upto 1 TB\\n16.76 cm (6.6 inch) HD+ Display\\n50MP + 2MP | 16MP Front Camera\\n6000 mAh Battery\\nHelio G85 Processor\\n1 Year on Handset and 6 Months on Accessories\\n₹7,999\\n₹11,99933% off\\nFree delivery\\nSave extra with combo offers\\nUpto \\n₹7,400\\n Off on Exchange', 'Add to Compare\\nvivo T2x 5G (Black Gladiator, 128 GB)\\n4.41,69,688 Ratings & 9,044 Reviews\\n4 GB RAM | 128 GB ROM\\n16.71 cm (6.58 inch) Full HD+ Display\\n50MP + 2MP | 8MP Front Camera\\n5000 mAh Battery\\nMediatek Dimensity 6020 Processor\\n1 Year of Device & 6 Months for Inbox Accessories\\n₹11,999\\n₹17,99933% off\\nFree delivery\\nSave extra with combo offers\\nUpto \\n₹9,950\\n Off on Exchange', 'Add to Compare\\nvivo T2x 5G (Black Gladiator, 128 GB)\\n4.43,98,172 Ratings & 22,465 Reviews\\n6 GB RAM | 128 GB ROM\\n16.71 cm (6.58 inch) Full HD+ Display\\n50MP + 2MP | 8MP Front Camera\\n5000 mAh Battery\\nMediatek Dimensity 6020 Processor\\n1 Year of Device & 6 Months for Inbox Accessories\\n₹12,999\\n₹18,99931% off\\nFree delivery\\nSave extra with combo offers\\nUpto \\n₹10,100\\n Off on Exchange', 'Add to Compare\\nMOTOROLA g24 Power (Ink blue, 128 GB)\\n4.25,730 Ratings & 584 Reviews\\n4 GB RAM | 128 GB ROM | Expandable Upto 1 TB\\n16.76 cm (6.6 inch) HD+ Display\\n50MP + 2MP | 16MP Front Camera\\n6000 mAh Battery\\nHelio G85 Processor\\n1 Year on Handset and 6 Months on Accessories\\n₹7,999\\n₹11,99933% off\\nFree delivery\\nSave extra with combo offers\\nUpto \\n₹7,400\\n Off on Exchange', 'Add to Compare\\nOnePlus Nord CE 3 Lite 5G (Pastel Lime, 128 GB)\\n4.460,527 Ratings & 4,206 Reviews\\n8 GB RAM | 128 GB ROM\\n17.07 cm (6.72 inch) Display\\n108MP Rear Camera\\n5000 mAh Battery\\nDomestic Warranty of 12 months on phone & 6 months on accessories\\n₹17,416\\n₹19,99912% off\\nFree delivery\\nBank Offer', 'Add to Compare\\nOnePlus Nord CE 3 Lite 5G (Chromatic Gray, 256 GB)\\n4.460,527 Ratings & 4,206 Reviews\\n8 GB RAM | 256 GB ROM\\n17.07 cm (6.72 inch) Display\\n108MP Rear Camera\\n5000 mAh Battery\\nDomestic Warranty of 12 months on phone & 6 months on accessories\\n₹19,685\\n₹21,99910% off\\nFree delivery\\nSave extra with combo offers\\nOnly 2 left', 'Add to Compare\\nOnePlus Nord CE 3 Lite 5G (Pastel Lime, 256 GB)\\n4.460,527 Ratings & 4,206 Reviews\\n8 GB RAM | 256 GB ROM\\n17.07 cm (6.72 inch) Display\\n108MP Rear Camera\\n5000 mAh Battery\\nDomestic Warranty of 12 months on phone & 6 months on accessories\\n₹19,518\\n₹21,99911% off\\nFree delivery\\nOnly 2 left\\nBank Offer', 'Add to Compare\\nvivo T2x 5G (Glimmer Black, 128 GB)\\n4.368,793 Ratings & 4,144 Reviews\\n8 GB RAM | 128 GB ROM\\n16.71 cm (6.58 inch) Full HD+ Display\\n50MP + 2MP | 8MP Front Camera\\n5000 mAh Battery\\nMediatek Dimensity 6020 Processor\\n1 Year of Device & 6 Months for Inbox Accessories\\n₹14,999\\n₹20,99928% off\\nFree delivery\\nSave extra with combo offers\\nUpto \\n₹8,600\\n Off on Exchange']\n",
      "['Bestseller\\nAdd to Compare\\nMotorola G34 5G (Ocean Green, 128 GB)\\n4.246,493 Ratings & 4,632 Reviews\\n8 GB RAM | 128 GB ROM\\n16.51 cm (6.5 inch) HD+ Display\\n50MP + 2MP | 16MP Front Camera\\n5000 mAh Battery\\nSnapdragon 695 5G Processor\\nVegan Leather Design\\n1 Year on Handset and 6 Months on Accessories\\n₹11,999\\n₹14,99920% off\\nFree delivery\\nSave extra with combo offers\\nUpto \\n₹11,150\\n Off on Exchange', 'Add to Compare\\nPOCO C51 - Locked with Airtel Prepaid (Royal Blue, 64 GB)\\n42,11,616 Ratings & 12,004 Reviews\\n4 GB RAM | 64 GB ROM | Expandable Upto 1 TB\\n16.56 cm (6.52 inch) HD+ Display\\n8MP Dual Rear Camera | 5MP Front Camera\\n5000 mAh Battery\\nHelio G36 Processor\\n1 Year Manufacturer Warranty for Phone and 6 Months Warranty for in the Box Accessories\\n₹4,999\\n₹9,99950% off\\nFree delivery\\nSave extra with combo offers\\nBank Offer', 'Add to Compare\\nMotorola G34 5G (Charcoal Black, 128 GB)\\n4.246,493 Ratings & 4,632 Reviews\\n8 GB RAM | 128 GB ROM\\n16.51 cm (6.5 inch) HD+ Display\\n50MP + 2MP | 16MP Front Camera\\n5000 mAh Battery\\nSnapdragon 695 5G Processor\\n1 Year on Handset and 6 Months on Accessories\\n₹11,999\\n₹14,99920% off\\nFree delivery\\nSave extra with combo offers\\nUpto \\n₹11,150\\n Off on Exchange', 'Add to Compare\\nMotorola G34 5G (Ice Blue, 128 GB)\\n4.246,493 Ratings & 4,632 Reviews\\n8 GB RAM | 128 GB ROM\\n16.51 cm (6.5 inch) HD+ Display\\n50MP + 2MP | 16MP Front Camera\\n5000 mAh Battery\\nSnapdragon 695 5G Processor\\n1 Year on Handset and 6 Months on Accessories\\n₹11,999\\n₹14,99920% off\\nFree delivery\\nSave extra with combo offers\\nUpto \\n₹11,150\\n Off on Exchange', 'Add to Compare\\nvivo T2x 5G (Glimmer Black, 128 GB)\\n4.43,98,172 Ratings & 22,465 Reviews\\n6 GB RAM | 128 GB ROM\\n16.71 cm (6.58 inch) Full HD+ Display\\n50MP + 2MP | 8MP Front Camera\\n5000 mAh Battery\\nMediatek Dimensity 6020 Processor\\n1 Year of Device & 6 Months for Inbox Accessories\\n₹15,199\\n₹18,99920% off\\nFree delivery\\nSave extra with combo offers\\nOnly 1 left', 'Add to Compare\\nvivo T2x 5G (Aurora Gold, 128 GB)\\n4.43,98,172 Ratings & 22,465 Reviews\\n6 GB RAM | 128 GB ROM\\n16.71 cm (6.58 inch) Full HD+ Display\\n50MP + 2MP | 8MP Front Camera\\n5000 mAh Battery\\nMediatek Dimensity 6020 Processor\\n1 Year of Device & 6 Months for Inbox Accessories\\n₹12,999\\n₹18,99931% off\\nFree delivery\\nSave extra with combo offers\\nUpto \\n₹10,100\\n Off on Exchange', 'Add to Compare\\nvivo T2x 5G (Sunstone Orange, 128 GB)\\n4.43,98,172 Ratings & 22,465 Reviews\\n6 GB RAM | 128 GB ROM\\n16.71 cm (6.58 inch) Full HD+ Display\\n50MP + 2MP | 8MP Front Camera\\n5000 mAh Battery\\nMediatek Dimensity 6020 Processor\\n1 Year of Device & 6 Months for Inbox Accessories\\n₹12,999\\n₹18,99931% off\\nFree delivery\\nSave extra with combo offers\\nUpto \\n₹10,100\\n Off on Exchange', 'Add to Compare\\nvivo T2x 5G (Marine Blue, 128 GB)\\n4.368,793 Ratings & 4,144 Reviews\\n8 GB RAM | 128 GB ROM\\n16.71 cm (6.58 inch) Full HD+ Display\\n50MP + 2MP | 8MP Front Camera\\n5000 mAh Battery\\nMediatek Dimensity 6020 Processor\\n1 Year of Device & 6 Months for Inbox Accessories\\n₹14,999\\n₹20,99928% off\\nFree delivery\\nSave extra with combo offers\\nUpto \\n₹8,600\\n Off on Exchange', 'Add to Compare\\nvivo T2x 5G (Sunstone Orange, 128 GB)\\n4.41,69,688 Ratings & 9,044 Reviews\\n4 GB RAM | 128 GB ROM\\n16.71 cm (6.58 inch) Full HD+ Display\\n50MP + 2MP | 8MP Front Camera\\n5000 mAh Battery\\nMediatek Dimensity 6020 Processor\\n1 Year of Device & 6 Months for Inbox Accessories\\n₹11,999\\n₹17,99933% off\\nFree delivery\\nSave extra with combo offers\\nUpto \\n₹9,950\\n Off on Exchange', 'Add to Compare\\nvivo T2x 5G (Marine Blue, 128 GB)\\n4.41,69,688 Ratings & 9,044 Reviews\\n4 GB RAM | 128 GB ROM\\n16.71 cm (6.58 inch) Full HD+ Display\\n50MP + 2MP | 8MP Front Camera\\n5000 mAh Battery\\nMediatek Dimensity 6020 Processor\\n1 Year of Device & 6 Months for Inbox Accessories\\n₹11,999\\n₹17,99933% off\\nFree delivery\\nSave extra with combo offers\\nUpto \\n₹9,950\\n Off on Exchange', 'Add to Compare\\nvivo T2x 5G (Aurora Gold, 128 GB)\\n4.368,793 Ratings & 4,144 Reviews\\n8 GB RAM | 128 GB ROM\\n16.71 cm (6.58 inch) Full HD+ Display\\n50MP + 2MP | 8MP Front Camera\\n5000 mAh Battery\\nMediatek Dimensity 6020 Processor\\n1 Year of Device & 6 Months for Inbox Accessories\\n₹14,999\\n₹20,99928% off\\nFree delivery\\nSave extra with combo offers\\nUpto \\n₹8,600\\n Off on Exchange', 'Add to Compare\\nvivo T2x 5G (Black Gladiator, 128 GB)\\n4.368,793 Ratings & 4,144 Reviews\\n8 GB RAM | 128 GB ROM\\n16.71 cm (6.58 inch) Full HD+ Display\\n50MP + 2MP | 8MP Front Camera\\n5000 mAh Battery\\nMediatek Dimensity 6020 Processor\\n1 Year of Device & 6 Months for Inbox Accessories\\n₹14,999\\n₹20,99928% off\\nFree delivery\\nSave extra with combo offers\\nUpto \\n₹8,600\\n Off on Exchange', 'Add to Compare\\nMOTOROLA g24 Power (Glacier Blue, 128 GB)\\n4.25,730 Ratings & 584 Reviews\\n4 GB RAM | 128 GB ROM | Expandable Upto 1 TB\\n16.76 cm (6.6 inch) HD+ Display\\n50MP + 2MP | 16MP Front Camera\\n6000 mAh Battery\\nHelio G85 Processor\\n1 Year on Handset and 6 Months on Accessories\\n₹7,999\\n₹11,99933% off\\nFree delivery\\nSave extra with combo offers\\nUpto \\n₹7,400\\n Off on Exchange', 'Add to Compare\\nvivo T2x 5G (Black Gladiator, 128 GB)\\n4.41,69,688 Ratings & 9,044 Reviews\\n4 GB RAM | 128 GB ROM\\n16.71 cm (6.58 inch) Full HD+ Display\\n50MP + 2MP | 8MP Front Camera\\n5000 mAh Battery\\nMediatek Dimensity 6020 Processor\\n1 Year of Device & 6 Months for Inbox Accessories\\n₹11,999\\n₹17,99933% off\\nFree delivery\\nSave extra with combo offers\\nUpto \\n₹9,950\\n Off on Exchange', 'Add to Compare\\nvivo T2x 5G (Black Gladiator, 128 GB)\\n4.43,98,172 Ratings & 22,465 Reviews\\n6 GB RAM | 128 GB ROM\\n16.71 cm (6.58 inch) Full HD+ Display\\n50MP + 2MP | 8MP Front Camera\\n5000 mAh Battery\\nMediatek Dimensity 6020 Processor\\n1 Year of Device & 6 Months for Inbox Accessories\\n₹12,999\\n₹18,99931% off\\nFree delivery\\nSave extra with combo offers\\nUpto \\n₹10,100\\n Off on Exchange', 'Add to Compare\\nMOTOROLA g24 Power (Ink blue, 128 GB)\\n4.25,730 Ratings & 584 Reviews\\n4 GB RAM | 128 GB ROM | Expandable Upto 1 TB\\n16.76 cm (6.6 inch) HD+ Display\\n50MP + 2MP | 16MP Front Camera\\n6000 mAh Battery\\nHelio G85 Processor\\n1 Year on Handset and 6 Months on Accessories\\n₹7,999\\n₹11,99933% off\\nFree delivery\\nSave extra with combo offers\\nUpto \\n₹7,400\\n Off on Exchange', 'Add to Compare\\nOnePlus Nord CE 3 Lite 5G (Pastel Lime, 128 GB)\\n4.460,527 Ratings & 4,206 Reviews\\n8 GB RAM | 128 GB ROM\\n17.07 cm (6.72 inch) Display\\n108MP Rear Camera\\n5000 mAh Battery\\nDomestic Warranty of 12 months on phone & 6 months on accessories\\n₹17,416\\n₹19,99912% off\\nFree delivery\\nBank Offer', 'Add to Compare\\nOnePlus Nord CE 3 Lite 5G (Chromatic Gray, 256 GB)\\n4.460,527 Ratings & 4,206 Reviews\\n8 GB RAM | 256 GB ROM\\n17.07 cm (6.72 inch) Display\\n108MP Rear Camera\\n5000 mAh Battery\\nDomestic Warranty of 12 months on phone & 6 months on accessories\\n₹19,685\\n₹21,99910% off\\nFree delivery\\nSave extra with combo offers\\nOnly 2 left', 'Add to Compare\\nOnePlus Nord CE 3 Lite 5G (Pastel Lime, 256 GB)\\n4.460,527 Ratings & 4,206 Reviews\\n8 GB RAM | 256 GB ROM\\n17.07 cm (6.72 inch) Display\\n108MP Rear Camera\\n5000 mAh Battery\\nDomestic Warranty of 12 months on phone & 6 months on accessories\\n₹19,518\\n₹21,99911% off\\nFree delivery\\nOnly 2 left\\nBank Offer', 'Add to Compare\\nvivo T2x 5G (Glimmer Black, 128 GB)\\n4.368,793 Ratings & 4,144 Reviews\\n8 GB RAM | 128 GB ROM\\n16.71 cm (6.58 inch) Full HD+ Display\\n50MP + 2MP | 8MP Front Camera\\n5000 mAh Battery\\nMediatek Dimensity 6020 Processor\\n1 Year of Device & 6 Months for Inbox Accessories\\n₹14,999\\n₹20,99928% off\\nFree delivery\\nSave extra with combo offers\\nUpto \\n₹8,600\\n Off on Exchange', 'Add to Compare\\nREDMI 13C (Starshine Green, 128 GB)\\n4.39,564 Ratings & 639 Reviews\\n4 GB RAM | 128 GB ROM | Expandable Upto 1 TB\\n17.12 cm (6.74 inch) HD+ Display\\n50MP Rear Camera | 8MP Front Camera\\n5000 mAh Battery\\nHelio G85 Processor\\n1 Year Manufacturer Warranty for Phone and 6 Months Warranty for In the Box Accessories\\n₹7,699\\n₹11,99935% off\\nFree delivery\\nSave extra with combo offers\\nUpto \\n₹6,550\\n Off on Exchange']\n",
      "['Bestseller\\nAdd to Compare\\nMotorola G34 5G (Ocean Green, 128 GB)\\n4.246,493 Ratings & 4,632 Reviews\\n8 GB RAM | 128 GB ROM\\n16.51 cm (6.5 inch) HD+ Display\\n50MP + 2MP | 16MP Front Camera\\n5000 mAh Battery\\nSnapdragon 695 5G Processor\\nVegan Leather Design\\n1 Year on Handset and 6 Months on Accessories\\n₹11,999\\n₹14,99920% off\\nFree delivery\\nSave extra with combo offers\\nUpto \\n₹11,150\\n Off on Exchange', 'Add to Compare\\nPOCO C51 - Locked with Airtel Prepaid (Royal Blue, 64 GB)\\n42,11,616 Ratings & 12,004 Reviews\\n4 GB RAM | 64 GB ROM | Expandable Upto 1 TB\\n16.56 cm (6.52 inch) HD+ Display\\n8MP Dual Rear Camera | 5MP Front Camera\\n5000 mAh Battery\\nHelio G36 Processor\\n1 Year Manufacturer Warranty for Phone and 6 Months Warranty for in the Box Accessories\\n₹4,999\\n₹9,99950% off\\nFree delivery\\nSave extra with combo offers\\nBank Offer', 'Add to Compare\\nMotorola G34 5G (Charcoal Black, 128 GB)\\n4.246,493 Ratings & 4,632 Reviews\\n8 GB RAM | 128 GB ROM\\n16.51 cm (6.5 inch) HD+ Display\\n50MP + 2MP | 16MP Front Camera\\n5000 mAh Battery\\nSnapdragon 695 5G Processor\\n1 Year on Handset and 6 Months on Accessories\\n₹11,999\\n₹14,99920% off\\nFree delivery\\nSave extra with combo offers\\nUpto \\n₹11,150\\n Off on Exchange', 'Add to Compare\\nMotorola G34 5G (Ice Blue, 128 GB)\\n4.246,493 Ratings & 4,632 Reviews\\n8 GB RAM | 128 GB ROM\\n16.51 cm (6.5 inch) HD+ Display\\n50MP + 2MP | 16MP Front Camera\\n5000 mAh Battery\\nSnapdragon 695 5G Processor\\n1 Year on Handset and 6 Months on Accessories\\n₹11,999\\n₹14,99920% off\\nFree delivery\\nSave extra with combo offers\\nUpto \\n₹11,150\\n Off on Exchange', 'Add to Compare\\nvivo T2x 5G (Glimmer Black, 128 GB)\\n4.43,98,172 Ratings & 22,465 Reviews\\n6 GB RAM | 128 GB ROM\\n16.71 cm (6.58 inch) Full HD+ Display\\n50MP + 2MP | 8MP Front Camera\\n5000 mAh Battery\\nMediatek Dimensity 6020 Processor\\n1 Year of Device & 6 Months for Inbox Accessories\\n₹15,199\\n₹18,99920% off\\nFree delivery\\nSave extra with combo offers\\nOnly 1 left', 'Add to Compare\\nvivo T2x 5G (Aurora Gold, 128 GB)\\n4.43,98,172 Ratings & 22,465 Reviews\\n6 GB RAM | 128 GB ROM\\n16.71 cm (6.58 inch) Full HD+ Display\\n50MP + 2MP | 8MP Front Camera\\n5000 mAh Battery\\nMediatek Dimensity 6020 Processor\\n1 Year of Device & 6 Months for Inbox Accessories\\n₹12,999\\n₹18,99931% off\\nFree delivery\\nSave extra with combo offers\\nUpto \\n₹10,100\\n Off on Exchange', 'Add to Compare\\nvivo T2x 5G (Sunstone Orange, 128 GB)\\n4.43,98,172 Ratings & 22,465 Reviews\\n6 GB RAM | 128 GB ROM\\n16.71 cm (6.58 inch) Full HD+ Display\\n50MP + 2MP | 8MP Front Camera\\n5000 mAh Battery\\nMediatek Dimensity 6020 Processor\\n1 Year of Device & 6 Months for Inbox Accessories\\n₹12,999\\n₹18,99931% off\\nFree delivery\\nSave extra with combo offers\\nUpto \\n₹10,100\\n Off on Exchange', 'Add to Compare\\nvivo T2x 5G (Marine Blue, 128 GB)\\n4.368,793 Ratings & 4,144 Reviews\\n8 GB RAM | 128 GB ROM\\n16.71 cm (6.58 inch) Full HD+ Display\\n50MP + 2MP | 8MP Front Camera\\n5000 mAh Battery\\nMediatek Dimensity 6020 Processor\\n1 Year of Device & 6 Months for Inbox Accessories\\n₹14,999\\n₹20,99928% off\\nFree delivery\\nSave extra with combo offers\\nUpto \\n₹8,600\\n Off on Exchange', 'Add to Compare\\nvivo T2x 5G (Sunstone Orange, 128 GB)\\n4.41,69,688 Ratings & 9,044 Reviews\\n4 GB RAM | 128 GB ROM\\n16.71 cm (6.58 inch) Full HD+ Display\\n50MP + 2MP | 8MP Front Camera\\n5000 mAh Battery\\nMediatek Dimensity 6020 Processor\\n1 Year of Device & 6 Months for Inbox Accessories\\n₹11,999\\n₹17,99933% off\\nFree delivery\\nSave extra with combo offers\\nUpto \\n₹9,950\\n Off on Exchange', 'Add to Compare\\nvivo T2x 5G (Marine Blue, 128 GB)\\n4.41,69,688 Ratings & 9,044 Reviews\\n4 GB RAM | 128 GB ROM\\n16.71 cm (6.58 inch) Full HD+ Display\\n50MP + 2MP | 8MP Front Camera\\n5000 mAh Battery\\nMediatek Dimensity 6020 Processor\\n1 Year of Device & 6 Months for Inbox Accessories\\n₹11,999\\n₹17,99933% off\\nFree delivery\\nSave extra with combo offers\\nUpto \\n₹9,950\\n Off on Exchange', 'Add to Compare\\nvivo T2x 5G (Aurora Gold, 128 GB)\\n4.368,793 Ratings & 4,144 Reviews\\n8 GB RAM | 128 GB ROM\\n16.71 cm (6.58 inch) Full HD+ Display\\n50MP + 2MP | 8MP Front Camera\\n5000 mAh Battery\\nMediatek Dimensity 6020 Processor\\n1 Year of Device & 6 Months for Inbox Accessories\\n₹14,999\\n₹20,99928% off\\nFree delivery\\nSave extra with combo offers\\nUpto \\n₹8,600\\n Off on Exchange', 'Add to Compare\\nvivo T2x 5G (Black Gladiator, 128 GB)\\n4.368,793 Ratings & 4,144 Reviews\\n8 GB RAM | 128 GB ROM\\n16.71 cm (6.58 inch) Full HD+ Display\\n50MP + 2MP | 8MP Front Camera\\n5000 mAh Battery\\nMediatek Dimensity 6020 Processor\\n1 Year of Device & 6 Months for Inbox Accessories\\n₹14,999\\n₹20,99928% off\\nFree delivery\\nSave extra with combo offers\\nUpto \\n₹8,600\\n Off on Exchange', 'Add to Compare\\nMOTOROLA g24 Power (Glacier Blue, 128 GB)\\n4.25,730 Ratings & 584 Reviews\\n4 GB RAM | 128 GB ROM | Expandable Upto 1 TB\\n16.76 cm (6.6 inch) HD+ Display\\n50MP + 2MP | 16MP Front Camera\\n6000 mAh Battery\\nHelio G85 Processor\\n1 Year on Handset and 6 Months on Accessories\\n₹7,999\\n₹11,99933% off\\nFree delivery\\nSave extra with combo offers\\nUpto \\n₹7,400\\n Off on Exchange', 'Add to Compare\\nvivo T2x 5G (Black Gladiator, 128 GB)\\n4.41,69,688 Ratings & 9,044 Reviews\\n4 GB RAM | 128 GB ROM\\n16.71 cm (6.58 inch) Full HD+ Display\\n50MP + 2MP | 8MP Front Camera\\n5000 mAh Battery\\nMediatek Dimensity 6020 Processor\\n1 Year of Device & 6 Months for Inbox Accessories\\n₹11,999\\n₹17,99933% off\\nFree delivery\\nSave extra with combo offers\\nUpto \\n₹9,950\\n Off on Exchange', 'Add to Compare\\nvivo T2x 5G (Black Gladiator, 128 GB)\\n4.43,98,172 Ratings & 22,465 Reviews\\n6 GB RAM | 128 GB ROM\\n16.71 cm (6.58 inch) Full HD+ Display\\n50MP + 2MP | 8MP Front Camera\\n5000 mAh Battery\\nMediatek Dimensity 6020 Processor\\n1 Year of Device & 6 Months for Inbox Accessories\\n₹12,999\\n₹18,99931% off\\nFree delivery\\nSave extra with combo offers\\nUpto \\n₹10,100\\n Off on Exchange', 'Add to Compare\\nMOTOROLA g24 Power (Ink blue, 128 GB)\\n4.25,730 Ratings & 584 Reviews\\n4 GB RAM | 128 GB ROM | Expandable Upto 1 TB\\n16.76 cm (6.6 inch) HD+ Display\\n50MP + 2MP | 16MP Front Camera\\n6000 mAh Battery\\nHelio G85 Processor\\n1 Year on Handset and 6 Months on Accessories\\n₹7,999\\n₹11,99933% off\\nFree delivery\\nSave extra with combo offers\\nUpto \\n₹7,400\\n Off on Exchange', 'Add to Compare\\nOnePlus Nord CE 3 Lite 5G (Pastel Lime, 128 GB)\\n4.460,527 Ratings & 4,206 Reviews\\n8 GB RAM | 128 GB ROM\\n17.07 cm (6.72 inch) Display\\n108MP Rear Camera\\n5000 mAh Battery\\nDomestic Warranty of 12 months on phone & 6 months on accessories\\n₹17,416\\n₹19,99912% off\\nFree delivery\\nBank Offer', 'Add to Compare\\nOnePlus Nord CE 3 Lite 5G (Chromatic Gray, 256 GB)\\n4.460,527 Ratings & 4,206 Reviews\\n8 GB RAM | 256 GB ROM\\n17.07 cm (6.72 inch) Display\\n108MP Rear Camera\\n5000 mAh Battery\\nDomestic Warranty of 12 months on phone & 6 months on accessories\\n₹19,685\\n₹21,99910% off\\nFree delivery\\nSave extra with combo offers\\nOnly 2 left', 'Add to Compare\\nOnePlus Nord CE 3 Lite 5G (Pastel Lime, 256 GB)\\n4.460,527 Ratings & 4,206 Reviews\\n8 GB RAM | 256 GB ROM\\n17.07 cm (6.72 inch) Display\\n108MP Rear Camera\\n5000 mAh Battery\\nDomestic Warranty of 12 months on phone & 6 months on accessories\\n₹19,518\\n₹21,99911% off\\nFree delivery\\nOnly 2 left\\nBank Offer', 'Add to Compare\\nvivo T2x 5G (Glimmer Black, 128 GB)\\n4.368,793 Ratings & 4,144 Reviews\\n8 GB RAM | 128 GB ROM\\n16.71 cm (6.58 inch) Full HD+ Display\\n50MP + 2MP | 8MP Front Camera\\n5000 mAh Battery\\nMediatek Dimensity 6020 Processor\\n1 Year of Device & 6 Months for Inbox Accessories\\n₹14,999\\n₹20,99928% off\\nFree delivery\\nSave extra with combo offers\\nUpto \\n₹8,600\\n Off on Exchange', 'Add to Compare\\nREDMI 13C (Starshine Green, 128 GB)\\n4.39,564 Ratings & 639 Reviews\\n4 GB RAM | 128 GB ROM | Expandable Upto 1 TB\\n17.12 cm (6.74 inch) HD+ Display\\n50MP Rear Camera | 8MP Front Camera\\n5000 mAh Battery\\nHelio G85 Processor\\n1 Year Manufacturer Warranty for Phone and 6 Months Warranty for In the Box Accessories\\n₹7,699\\n₹11,99935% off\\nFree delivery\\nSave extra with combo offers\\nUpto \\n₹6,550\\n Off on Exchange', 'Add to Compare\\nvivo T2x 5G (Marine Blue, 128 GB)\\n4.43,98,172 Ratings & 22,465 Reviews\\n6 GB RAM | 128 GB ROM\\n16.71 cm (6.58 inch) Full HD+ Display\\n50MP + 2MP | 8MP Front Camera\\n5000 mAh Battery\\nMediatek Dimensity 6020 Processor\\n1 Year of Device & 6 Months for Inbox Accessories\\n₹12,999\\n₹18,99931% off\\nFree delivery\\nSave extra with combo offers\\nUpto \\n₹10,100\\n Off on Exchange']\n",
      "['Bestseller\\nAdd to Compare\\nMotorola G34 5G (Ocean Green, 128 GB)\\n4.246,493 Ratings & 4,632 Reviews\\n8 GB RAM | 128 GB ROM\\n16.51 cm (6.5 inch) HD+ Display\\n50MP + 2MP | 16MP Front Camera\\n5000 mAh Battery\\nSnapdragon 695 5G Processor\\nVegan Leather Design\\n1 Year on Handset and 6 Months on Accessories\\n₹11,999\\n₹14,99920% off\\nFree delivery\\nSave extra with combo offers\\nUpto \\n₹11,150\\n Off on Exchange', 'Add to Compare\\nPOCO C51 - Locked with Airtel Prepaid (Royal Blue, 64 GB)\\n42,11,616 Ratings & 12,004 Reviews\\n4 GB RAM | 64 GB ROM | Expandable Upto 1 TB\\n16.56 cm (6.52 inch) HD+ Display\\n8MP Dual Rear Camera | 5MP Front Camera\\n5000 mAh Battery\\nHelio G36 Processor\\n1 Year Manufacturer Warranty for Phone and 6 Months Warranty for in the Box Accessories\\n₹4,999\\n₹9,99950% off\\nFree delivery\\nSave extra with combo offers\\nBank Offer', 'Add to Compare\\nMotorola G34 5G (Charcoal Black, 128 GB)\\n4.246,493 Ratings & 4,632 Reviews\\n8 GB RAM | 128 GB ROM\\n16.51 cm (6.5 inch) HD+ Display\\n50MP + 2MP | 16MP Front Camera\\n5000 mAh Battery\\nSnapdragon 695 5G Processor\\n1 Year on Handset and 6 Months on Accessories\\n₹11,999\\n₹14,99920% off\\nFree delivery\\nSave extra with combo offers\\nUpto \\n₹11,150\\n Off on Exchange', 'Add to Compare\\nMotorola G34 5G (Ice Blue, 128 GB)\\n4.246,493 Ratings & 4,632 Reviews\\n8 GB RAM | 128 GB ROM\\n16.51 cm (6.5 inch) HD+ Display\\n50MP + 2MP | 16MP Front Camera\\n5000 mAh Battery\\nSnapdragon 695 5G Processor\\n1 Year on Handset and 6 Months on Accessories\\n₹11,999\\n₹14,99920% off\\nFree delivery\\nSave extra with combo offers\\nUpto \\n₹11,150\\n Off on Exchange', 'Add to Compare\\nvivo T2x 5G (Glimmer Black, 128 GB)\\n4.43,98,172 Ratings & 22,465 Reviews\\n6 GB RAM | 128 GB ROM\\n16.71 cm (6.58 inch) Full HD+ Display\\n50MP + 2MP | 8MP Front Camera\\n5000 mAh Battery\\nMediatek Dimensity 6020 Processor\\n1 Year of Device & 6 Months for Inbox Accessories\\n₹15,199\\n₹18,99920% off\\nFree delivery\\nSave extra with combo offers\\nOnly 1 left', 'Add to Compare\\nvivo T2x 5G (Aurora Gold, 128 GB)\\n4.43,98,172 Ratings & 22,465 Reviews\\n6 GB RAM | 128 GB ROM\\n16.71 cm (6.58 inch) Full HD+ Display\\n50MP + 2MP | 8MP Front Camera\\n5000 mAh Battery\\nMediatek Dimensity 6020 Processor\\n1 Year of Device & 6 Months for Inbox Accessories\\n₹12,999\\n₹18,99931% off\\nFree delivery\\nSave extra with combo offers\\nUpto \\n₹10,100\\n Off on Exchange', 'Add to Compare\\nvivo T2x 5G (Sunstone Orange, 128 GB)\\n4.43,98,172 Ratings & 22,465 Reviews\\n6 GB RAM | 128 GB ROM\\n16.71 cm (6.58 inch) Full HD+ Display\\n50MP + 2MP | 8MP Front Camera\\n5000 mAh Battery\\nMediatek Dimensity 6020 Processor\\n1 Year of Device & 6 Months for Inbox Accessories\\n₹12,999\\n₹18,99931% off\\nFree delivery\\nSave extra with combo offers\\nUpto \\n₹10,100\\n Off on Exchange', 'Add to Compare\\nvivo T2x 5G (Marine Blue, 128 GB)\\n4.368,793 Ratings & 4,144 Reviews\\n8 GB RAM | 128 GB ROM\\n16.71 cm (6.58 inch) Full HD+ Display\\n50MP + 2MP | 8MP Front Camera\\n5000 mAh Battery\\nMediatek Dimensity 6020 Processor\\n1 Year of Device & 6 Months for Inbox Accessories\\n₹14,999\\n₹20,99928% off\\nFree delivery\\nSave extra with combo offers\\nUpto \\n₹8,600\\n Off on Exchange', 'Add to Compare\\nvivo T2x 5G (Sunstone Orange, 128 GB)\\n4.41,69,688 Ratings & 9,044 Reviews\\n4 GB RAM | 128 GB ROM\\n16.71 cm (6.58 inch) Full HD+ Display\\n50MP + 2MP | 8MP Front Camera\\n5000 mAh Battery\\nMediatek Dimensity 6020 Processor\\n1 Year of Device & 6 Months for Inbox Accessories\\n₹11,999\\n₹17,99933% off\\nFree delivery\\nSave extra with combo offers\\nUpto \\n₹9,950\\n Off on Exchange', 'Add to Compare\\nvivo T2x 5G (Marine Blue, 128 GB)\\n4.41,69,688 Ratings & 9,044 Reviews\\n4 GB RAM | 128 GB ROM\\n16.71 cm (6.58 inch) Full HD+ Display\\n50MP + 2MP | 8MP Front Camera\\n5000 mAh Battery\\nMediatek Dimensity 6020 Processor\\n1 Year of Device & 6 Months for Inbox Accessories\\n₹11,999\\n₹17,99933% off\\nFree delivery\\nSave extra with combo offers\\nUpto \\n₹9,950\\n Off on Exchange', 'Add to Compare\\nvivo T2x 5G (Aurora Gold, 128 GB)\\n4.368,793 Ratings & 4,144 Reviews\\n8 GB RAM | 128 GB ROM\\n16.71 cm (6.58 inch) Full HD+ Display\\n50MP + 2MP | 8MP Front Camera\\n5000 mAh Battery\\nMediatek Dimensity 6020 Processor\\n1 Year of Device & 6 Months for Inbox Accessories\\n₹14,999\\n₹20,99928% off\\nFree delivery\\nSave extra with combo offers\\nUpto \\n₹8,600\\n Off on Exchange', 'Add to Compare\\nvivo T2x 5G (Black Gladiator, 128 GB)\\n4.368,793 Ratings & 4,144 Reviews\\n8 GB RAM | 128 GB ROM\\n16.71 cm (6.58 inch) Full HD+ Display\\n50MP + 2MP | 8MP Front Camera\\n5000 mAh Battery\\nMediatek Dimensity 6020 Processor\\n1 Year of Device & 6 Months for Inbox Accessories\\n₹14,999\\n₹20,99928% off\\nFree delivery\\nSave extra with combo offers\\nUpto \\n₹8,600\\n Off on Exchange', 'Add to Compare\\nMOTOROLA g24 Power (Glacier Blue, 128 GB)\\n4.25,730 Ratings & 584 Reviews\\n4 GB RAM | 128 GB ROM | Expandable Upto 1 TB\\n16.76 cm (6.6 inch) HD+ Display\\n50MP + 2MP | 16MP Front Camera\\n6000 mAh Battery\\nHelio G85 Processor\\n1 Year on Handset and 6 Months on Accessories\\n₹7,999\\n₹11,99933% off\\nFree delivery\\nSave extra with combo offers\\nUpto \\n₹7,400\\n Off on Exchange', 'Add to Compare\\nvivo T2x 5G (Black Gladiator, 128 GB)\\n4.41,69,688 Ratings & 9,044 Reviews\\n4 GB RAM | 128 GB ROM\\n16.71 cm (6.58 inch) Full HD+ Display\\n50MP + 2MP | 8MP Front Camera\\n5000 mAh Battery\\nMediatek Dimensity 6020 Processor\\n1 Year of Device & 6 Months for Inbox Accessories\\n₹11,999\\n₹17,99933% off\\nFree delivery\\nSave extra with combo offers\\nUpto \\n₹9,950\\n Off on Exchange', 'Add to Compare\\nvivo T2x 5G (Black Gladiator, 128 GB)\\n4.43,98,172 Ratings & 22,465 Reviews\\n6 GB RAM | 128 GB ROM\\n16.71 cm (6.58 inch) Full HD+ Display\\n50MP + 2MP | 8MP Front Camera\\n5000 mAh Battery\\nMediatek Dimensity 6020 Processor\\n1 Year of Device & 6 Months for Inbox Accessories\\n₹12,999\\n₹18,99931% off\\nFree delivery\\nSave extra with combo offers\\nUpto \\n₹10,100\\n Off on Exchange', 'Add to Compare\\nMOTOROLA g24 Power (Ink blue, 128 GB)\\n4.25,730 Ratings & 584 Reviews\\n4 GB RAM | 128 GB ROM | Expandable Upto 1 TB\\n16.76 cm (6.6 inch) HD+ Display\\n50MP + 2MP | 16MP Front Camera\\n6000 mAh Battery\\nHelio G85 Processor\\n1 Year on Handset and 6 Months on Accessories\\n₹7,999\\n₹11,99933% off\\nFree delivery\\nSave extra with combo offers\\nUpto \\n₹7,400\\n Off on Exchange', 'Add to Compare\\nOnePlus Nord CE 3 Lite 5G (Pastel Lime, 128 GB)\\n4.460,527 Ratings & 4,206 Reviews\\n8 GB RAM | 128 GB ROM\\n17.07 cm (6.72 inch) Display\\n108MP Rear Camera\\n5000 mAh Battery\\nDomestic Warranty of 12 months on phone & 6 months on accessories\\n₹17,416\\n₹19,99912% off\\nFree delivery\\nBank Offer', 'Add to Compare\\nOnePlus Nord CE 3 Lite 5G (Chromatic Gray, 256 GB)\\n4.460,527 Ratings & 4,206 Reviews\\n8 GB RAM | 256 GB ROM\\n17.07 cm (6.72 inch) Display\\n108MP Rear Camera\\n5000 mAh Battery\\nDomestic Warranty of 12 months on phone & 6 months on accessories\\n₹19,685\\n₹21,99910% off\\nFree delivery\\nSave extra with combo offers\\nOnly 2 left', 'Add to Compare\\nOnePlus Nord CE 3 Lite 5G (Pastel Lime, 256 GB)\\n4.460,527 Ratings & 4,206 Reviews\\n8 GB RAM | 256 GB ROM\\n17.07 cm (6.72 inch) Display\\n108MP Rear Camera\\n5000 mAh Battery\\nDomestic Warranty of 12 months on phone & 6 months on accessories\\n₹19,518\\n₹21,99911% off\\nFree delivery\\nOnly 2 left\\nBank Offer', 'Add to Compare\\nvivo T2x 5G (Glimmer Black, 128 GB)\\n4.368,793 Ratings & 4,144 Reviews\\n8 GB RAM | 128 GB ROM\\n16.71 cm (6.58 inch) Full HD+ Display\\n50MP + 2MP | 8MP Front Camera\\n5000 mAh Battery\\nMediatek Dimensity 6020 Processor\\n1 Year of Device & 6 Months for Inbox Accessories\\n₹14,999\\n₹20,99928% off\\nFree delivery\\nSave extra with combo offers\\nUpto \\n₹8,600\\n Off on Exchange', 'Add to Compare\\nREDMI 13C (Starshine Green, 128 GB)\\n4.39,564 Ratings & 639 Reviews\\n4 GB RAM | 128 GB ROM | Expandable Upto 1 TB\\n17.12 cm (6.74 inch) HD+ Display\\n50MP Rear Camera | 8MP Front Camera\\n5000 mAh Battery\\nHelio G85 Processor\\n1 Year Manufacturer Warranty for Phone and 6 Months Warranty for In the Box Accessories\\n₹7,699\\n₹11,99935% off\\nFree delivery\\nSave extra with combo offers\\nUpto \\n₹6,550\\n Off on Exchange', 'Add to Compare\\nvivo T2x 5G (Marine Blue, 128 GB)\\n4.43,98,172 Ratings & 22,465 Reviews\\n6 GB RAM | 128 GB ROM\\n16.71 cm (6.58 inch) Full HD+ Display\\n50MP + 2MP | 8MP Front Camera\\n5000 mAh Battery\\nMediatek Dimensity 6020 Processor\\n1 Year of Device & 6 Months for Inbox Accessories\\n₹12,999\\n₹18,99931% off\\nFree delivery\\nSave extra with combo offers\\nUpto \\n₹10,100\\n Off on Exchange', 'Add to Compare\\nMOTOROLA g24 Power (Ink blue, 128 GB)\\n4.25,591 Ratings & 513 Reviews\\n8 GB RAM | 128 GB ROM | Expandable Upto 1 TB\\n16.76 cm (6.6 inch) HD+ Display\\n50MP + 2MP | 16MP Front Camera\\n6000 mAh Battery\\nHelio G85 Processor\\n1 Year on Handset and 6 Months on Accessories\\n₹8,999\\n₹12,99930% off\\nFree delivery\\nSave extra with combo offers\\nUpto \\n₹8,000\\n Off on Exchange']\n",
      "['Bestseller\\nAdd to Compare\\nMotorola G34 5G (Ocean Green, 128 GB)\\n4.246,493 Ratings & 4,632 Reviews\\n8 GB RAM | 128 GB ROM\\n16.51 cm (6.5 inch) HD+ Display\\n50MP + 2MP | 16MP Front Camera\\n5000 mAh Battery\\nSnapdragon 695 5G Processor\\nVegan Leather Design\\n1 Year on Handset and 6 Months on Accessories\\n₹11,999\\n₹14,99920% off\\nFree delivery\\nSave extra with combo offers\\nUpto \\n₹11,150\\n Off on Exchange', 'Add to Compare\\nPOCO C51 - Locked with Airtel Prepaid (Royal Blue, 64 GB)\\n42,11,616 Ratings & 12,004 Reviews\\n4 GB RAM | 64 GB ROM | Expandable Upto 1 TB\\n16.56 cm (6.52 inch) HD+ Display\\n8MP Dual Rear Camera | 5MP Front Camera\\n5000 mAh Battery\\nHelio G36 Processor\\n1 Year Manufacturer Warranty for Phone and 6 Months Warranty for in the Box Accessories\\n₹4,999\\n₹9,99950% off\\nFree delivery\\nSave extra with combo offers\\nBank Offer', 'Add to Compare\\nMotorola G34 5G (Charcoal Black, 128 GB)\\n4.246,493 Ratings & 4,632 Reviews\\n8 GB RAM | 128 GB ROM\\n16.51 cm (6.5 inch) HD+ Display\\n50MP + 2MP | 16MP Front Camera\\n5000 mAh Battery\\nSnapdragon 695 5G Processor\\n1 Year on Handset and 6 Months on Accessories\\n₹11,999\\n₹14,99920% off\\nFree delivery\\nSave extra with combo offers\\nUpto \\n₹11,150\\n Off on Exchange', 'Add to Compare\\nMotorola G34 5G (Ice Blue, 128 GB)\\n4.246,493 Ratings & 4,632 Reviews\\n8 GB RAM | 128 GB ROM\\n16.51 cm (6.5 inch) HD+ Display\\n50MP + 2MP | 16MP Front Camera\\n5000 mAh Battery\\nSnapdragon 695 5G Processor\\n1 Year on Handset and 6 Months on Accessories\\n₹11,999\\n₹14,99920% off\\nFree delivery\\nSave extra with combo offers\\nUpto \\n₹11,150\\n Off on Exchange', 'Add to Compare\\nvivo T2x 5G (Glimmer Black, 128 GB)\\n4.43,98,172 Ratings & 22,465 Reviews\\n6 GB RAM | 128 GB ROM\\n16.71 cm (6.58 inch) Full HD+ Display\\n50MP + 2MP | 8MP Front Camera\\n5000 mAh Battery\\nMediatek Dimensity 6020 Processor\\n1 Year of Device & 6 Months for Inbox Accessories\\n₹15,199\\n₹18,99920% off\\nFree delivery\\nSave extra with combo offers\\nOnly 1 left', 'Add to Compare\\nvivo T2x 5G (Aurora Gold, 128 GB)\\n4.43,98,172 Ratings & 22,465 Reviews\\n6 GB RAM | 128 GB ROM\\n16.71 cm (6.58 inch) Full HD+ Display\\n50MP + 2MP | 8MP Front Camera\\n5000 mAh Battery\\nMediatek Dimensity 6020 Processor\\n1 Year of Device & 6 Months for Inbox Accessories\\n₹12,999\\n₹18,99931% off\\nFree delivery\\nSave extra with combo offers\\nUpto \\n₹10,100\\n Off on Exchange', 'Add to Compare\\nvivo T2x 5G (Sunstone Orange, 128 GB)\\n4.43,98,172 Ratings & 22,465 Reviews\\n6 GB RAM | 128 GB ROM\\n16.71 cm (6.58 inch) Full HD+ Display\\n50MP + 2MP | 8MP Front Camera\\n5000 mAh Battery\\nMediatek Dimensity 6020 Processor\\n1 Year of Device & 6 Months for Inbox Accessories\\n₹12,999\\n₹18,99931% off\\nFree delivery\\nSave extra with combo offers\\nUpto \\n₹10,100\\n Off on Exchange', 'Add to Compare\\nvivo T2x 5G (Marine Blue, 128 GB)\\n4.368,793 Ratings & 4,144 Reviews\\n8 GB RAM | 128 GB ROM\\n16.71 cm (6.58 inch) Full HD+ Display\\n50MP + 2MP | 8MP Front Camera\\n5000 mAh Battery\\nMediatek Dimensity 6020 Processor\\n1 Year of Device & 6 Months for Inbox Accessories\\n₹14,999\\n₹20,99928% off\\nFree delivery\\nSave extra with combo offers\\nUpto \\n₹8,600\\n Off on Exchange', 'Add to Compare\\nvivo T2x 5G (Sunstone Orange, 128 GB)\\n4.41,69,688 Ratings & 9,044 Reviews\\n4 GB RAM | 128 GB ROM\\n16.71 cm (6.58 inch) Full HD+ Display\\n50MP + 2MP | 8MP Front Camera\\n5000 mAh Battery\\nMediatek Dimensity 6020 Processor\\n1 Year of Device & 6 Months for Inbox Accessories\\n₹11,999\\n₹17,99933% off\\nFree delivery\\nSave extra with combo offers\\nUpto \\n₹9,950\\n Off on Exchange', 'Add to Compare\\nvivo T2x 5G (Marine Blue, 128 GB)\\n4.41,69,688 Ratings & 9,044 Reviews\\n4 GB RAM | 128 GB ROM\\n16.71 cm (6.58 inch) Full HD+ Display\\n50MP + 2MP | 8MP Front Camera\\n5000 mAh Battery\\nMediatek Dimensity 6020 Processor\\n1 Year of Device & 6 Months for Inbox Accessories\\n₹11,999\\n₹17,99933% off\\nFree delivery\\nSave extra with combo offers\\nUpto \\n₹9,950\\n Off on Exchange', 'Add to Compare\\nvivo T2x 5G (Aurora Gold, 128 GB)\\n4.368,793 Ratings & 4,144 Reviews\\n8 GB RAM | 128 GB ROM\\n16.71 cm (6.58 inch) Full HD+ Display\\n50MP + 2MP | 8MP Front Camera\\n5000 mAh Battery\\nMediatek Dimensity 6020 Processor\\n1 Year of Device & 6 Months for Inbox Accessories\\n₹14,999\\n₹20,99928% off\\nFree delivery\\nSave extra with combo offers\\nUpto \\n₹8,600\\n Off on Exchange', 'Add to Compare\\nvivo T2x 5G (Black Gladiator, 128 GB)\\n4.368,793 Ratings & 4,144 Reviews\\n8 GB RAM | 128 GB ROM\\n16.71 cm (6.58 inch) Full HD+ Display\\n50MP + 2MP | 8MP Front Camera\\n5000 mAh Battery\\nMediatek Dimensity 6020 Processor\\n1 Year of Device & 6 Months for Inbox Accessories\\n₹14,999\\n₹20,99928% off\\nFree delivery\\nSave extra with combo offers\\nUpto \\n₹8,600\\n Off on Exchange', 'Add to Compare\\nMOTOROLA g24 Power (Glacier Blue, 128 GB)\\n4.25,730 Ratings & 584 Reviews\\n4 GB RAM | 128 GB ROM | Expandable Upto 1 TB\\n16.76 cm (6.6 inch) HD+ Display\\n50MP + 2MP | 16MP Front Camera\\n6000 mAh Battery\\nHelio G85 Processor\\n1 Year on Handset and 6 Months on Accessories\\n₹7,999\\n₹11,99933% off\\nFree delivery\\nSave extra with combo offers\\nUpto \\n₹7,400\\n Off on Exchange', 'Add to Compare\\nvivo T2x 5G (Black Gladiator, 128 GB)\\n4.41,69,688 Ratings & 9,044 Reviews\\n4 GB RAM | 128 GB ROM\\n16.71 cm (6.58 inch) Full HD+ Display\\n50MP + 2MP | 8MP Front Camera\\n5000 mAh Battery\\nMediatek Dimensity 6020 Processor\\n1 Year of Device & 6 Months for Inbox Accessories\\n₹11,999\\n₹17,99933% off\\nFree delivery\\nSave extra with combo offers\\nUpto \\n₹9,950\\n Off on Exchange', 'Add to Compare\\nvivo T2x 5G (Black Gladiator, 128 GB)\\n4.43,98,172 Ratings & 22,465 Reviews\\n6 GB RAM | 128 GB ROM\\n16.71 cm (6.58 inch) Full HD+ Display\\n50MP + 2MP | 8MP Front Camera\\n5000 mAh Battery\\nMediatek Dimensity 6020 Processor\\n1 Year of Device & 6 Months for Inbox Accessories\\n₹12,999\\n₹18,99931% off\\nFree delivery\\nSave extra with combo offers\\nUpto \\n₹10,100\\n Off on Exchange', 'Add to Compare\\nMOTOROLA g24 Power (Ink blue, 128 GB)\\n4.25,730 Ratings & 584 Reviews\\n4 GB RAM | 128 GB ROM | Expandable Upto 1 TB\\n16.76 cm (6.6 inch) HD+ Display\\n50MP + 2MP | 16MP Front Camera\\n6000 mAh Battery\\nHelio G85 Processor\\n1 Year on Handset and 6 Months on Accessories\\n₹7,999\\n₹11,99933% off\\nFree delivery\\nSave extra with combo offers\\nUpto \\n₹7,400\\n Off on Exchange', 'Add to Compare\\nOnePlus Nord CE 3 Lite 5G (Pastel Lime, 128 GB)\\n4.460,527 Ratings & 4,206 Reviews\\n8 GB RAM | 128 GB ROM\\n17.07 cm (6.72 inch) Display\\n108MP Rear Camera\\n5000 mAh Battery\\nDomestic Warranty of 12 months on phone & 6 months on accessories\\n₹17,416\\n₹19,99912% off\\nFree delivery\\nBank Offer', 'Add to Compare\\nOnePlus Nord CE 3 Lite 5G (Chromatic Gray, 256 GB)\\n4.460,527 Ratings & 4,206 Reviews\\n8 GB RAM | 256 GB ROM\\n17.07 cm (6.72 inch) Display\\n108MP Rear Camera\\n5000 mAh Battery\\nDomestic Warranty of 12 months on phone & 6 months on accessories\\n₹19,685\\n₹21,99910% off\\nFree delivery\\nSave extra with combo offers\\nOnly 2 left', 'Add to Compare\\nOnePlus Nord CE 3 Lite 5G (Pastel Lime, 256 GB)\\n4.460,527 Ratings & 4,206 Reviews\\n8 GB RAM | 256 GB ROM\\n17.07 cm (6.72 inch) Display\\n108MP Rear Camera\\n5000 mAh Battery\\nDomestic Warranty of 12 months on phone & 6 months on accessories\\n₹19,518\\n₹21,99911% off\\nFree delivery\\nOnly 2 left\\nBank Offer', 'Add to Compare\\nvivo T2x 5G (Glimmer Black, 128 GB)\\n4.368,793 Ratings & 4,144 Reviews\\n8 GB RAM | 128 GB ROM\\n16.71 cm (6.58 inch) Full HD+ Display\\n50MP + 2MP | 8MP Front Camera\\n5000 mAh Battery\\nMediatek Dimensity 6020 Processor\\n1 Year of Device & 6 Months for Inbox Accessories\\n₹14,999\\n₹20,99928% off\\nFree delivery\\nSave extra with combo offers\\nUpto \\n₹8,600\\n Off on Exchange', 'Add to Compare\\nREDMI 13C (Starshine Green, 128 GB)\\n4.39,564 Ratings & 639 Reviews\\n4 GB RAM | 128 GB ROM | Expandable Upto 1 TB\\n17.12 cm (6.74 inch) HD+ Display\\n50MP Rear Camera | 8MP Front Camera\\n5000 mAh Battery\\nHelio G85 Processor\\n1 Year Manufacturer Warranty for Phone and 6 Months Warranty for In the Box Accessories\\n₹7,699\\n₹11,99935% off\\nFree delivery\\nSave extra with combo offers\\nUpto \\n₹6,550\\n Off on Exchange', 'Add to Compare\\nvivo T2x 5G (Marine Blue, 128 GB)\\n4.43,98,172 Ratings & 22,465 Reviews\\n6 GB RAM | 128 GB ROM\\n16.71 cm (6.58 inch) Full HD+ Display\\n50MP + 2MP | 8MP Front Camera\\n5000 mAh Battery\\nMediatek Dimensity 6020 Processor\\n1 Year of Device & 6 Months for Inbox Accessories\\n₹12,999\\n₹18,99931% off\\nFree delivery\\nSave extra with combo offers\\nUpto \\n₹10,100\\n Off on Exchange', 'Add to Compare\\nMOTOROLA g24 Power (Ink blue, 128 GB)\\n4.25,591 Ratings & 513 Reviews\\n8 GB RAM | 128 GB ROM | Expandable Upto 1 TB\\n16.76 cm (6.6 inch) HD+ Display\\n50MP + 2MP | 16MP Front Camera\\n6000 mAh Battery\\nHelio G85 Processor\\n1 Year on Handset and 6 Months on Accessories\\n₹8,999\\n₹12,99930% off\\nFree delivery\\nSave extra with combo offers\\nUpto \\n₹8,000\\n Off on Exchange', 'Add to Compare\\nPOCO C51 - Locked with Airtel Prepaid (Power Black, 64 GB)\\n42,11,616 Ratings & 12,004 Reviews\\n4 GB RAM | 64 GB ROM | Expandable Upto 1 TB\\n16.56 cm (6.52 inch) HD+ Display\\n8MP Dual Rear Camera | 5MP Front Camera\\n5000 mAh Battery\\nHelio G36 Processor\\n1 Year Manufacturer Warranty for Phone and 6 Months Warranty for in the Box Accessories\\n₹4,999\\n₹9,99950% off\\nFree delivery\\nSave extra with combo offers\\nOnly few left']\n"
     ]
    }
   ],
   "source": [
    "url_list=[]\n",
    "for i in driver.find_elements(By.XPATH,'//a[@class=\"CGtC98\"]'):\n",
    "    url_list.append(i.text)\n",
    "    print(url_list)"
   ]
  },
  {
   "cell_type": "code",
   "execution_count": 68,
   "id": "097d6de1",
   "metadata": {},
   "outputs": [],
   "source": [
    "brand_name=[]\n",
    "smartphone_name=[]\n",
    "color_list=[]\n",
    "ram_list=[]\n",
    "rom_list=[]\n",
    "primary_camera=[]\n",
    "secondary_camera=[]\n",
    "display_list=[]\n",
    "battery_list=[]\n",
    "price_list=[]\n",
    "product_url=[]\n",
    "product_urls=[]\n"
   ]
  },
  {
   "cell_type": "code",
   "execution_count": 37,
   "id": "b20a0910",
   "metadata": {},
   "outputs": [],
   "source": []
  },
  {
   "cell_type": "code",
   "execution_count": 69,
   "id": "7e4bb9a2",
   "metadata": {},
   "outputs": [],
   "source": [
    "for url in product_urls:\n",
    "    driver.get(url)\n",
    "    time.sleep(2)\n",
    "    \n",
    "    brand=driver.find_element(By.Xpath,'//div[@class=\"KzDlHZ\"]')\n",
    "    brand_name.append(brand.text)\n",
    "    \n",
    "    title=driver.find_element(By.XPATH,'//div[@class=\"KzDlHZ\"]') # titile is not metion so brand name and title both are same\n",
    "    smartphone_name.append(title.text)\n",
    "    \n",
    "    read_more=driver.find_element(By.XPATH,'//button[@class=\"QqFHMw _4FgsLt\"]')\n",
    "    read_more.click()\n",
    "    \n",
    "    color=driver.find_element(By.XPATH,'//table[@class=\"_0ZhAN9\"]/tbody/tr[4]/td[2]')\n",
    "    color_list.append(color.text)\n",
    "    \n",
    "    \n",
    "    try:\n",
    "        ram=driver.find_element(ByXPATH,\"//div[@class='_1OjC5I']/div[4]/table/tbody/tr[2]/td[2]/ul/li[contains(text(),'GB')]\")\n",
    "        ram_list.append(ram.text)\n",
    "    except NoSuchElementException as e:\n",
    "        ram.append(\"-\")\n",
    "        \n",
    "    try:\n",
    "        rom=driver.find_element(By.XPATH,\"//div[@class='_1OjC5I']/div[4]/table/tbody/tr[1]/td[2]/ul/li[contains(text(),'GB')]\")\n",
    "        rom_list.append(rom.text)\n",
    "    except NoSuchElementException as e:\n",
    "        rom.append(\"-\")\n",
    "        \n",
    "    try:\n",
    "        pcam=driver.find_element(By.XPATH,\"//div[@class='_1OjC5I']/div[5]/table/tbody/tr[2]/td[2]/ul/li[contains(text(),'MP')]\")\n",
    "        primary_camera.append(pcam.text)\n",
    "    except NOSuchElementException as e:\n",
    "        pcam.append(\"-\")\n",
    "        \n",
    "    try:\n",
    "        scam=driver.find_element(By.XPATH,\"//div[@class='_1OjC5I']/div[5]/table/tbody/tr[5]/td[2]/ul/li[contains(text(),'MP')]\")\n",
    "        secondry_camera.append(scam.text)\n",
    "    except NoSuchElementException as e:\n",
    "        scam.append(\"-\")\n",
    "        \n",
    "    try:\n",
    "        display=driver.find_element(By.XPATH,\"//div[@class='_1OjC5I']/div[2]/table/tbody/tr[1]/td[2]/ul/li[contain(text(),'x')]\")\n",
    "        display_list.append(display.text)\n",
    "    except NoSuchElementException as e:\n",
    "        display.append(\"-\")\n",
    "    \n",
    "    try:\n",
    "        battery=driver.find_element(By.XPATH,\"//div[@class='_1OjC5I']/div[10]/table/tbody/tr[1]/td[2]/ul/li[contain(text(),'mAh')]\")\n",
    "        battery_list.append(battery.text)\n",
    "    except NoSuchElementException as e:\n",
    "        battery.append(\"-\")\n",
    "        \n",
    "    try:\n",
    "        Price=driver.find_element(By.XPATH,\"//div[@class='hl05eU']/div/\")\n",
    "        price_list.append(price.text)\n",
    "    except NoSuchElementException as e:\n",
    "        Price.append(\"-\")\n",
    "        \n",
    "        img=driver.find_element(By.XPATH,'//div[@class=\"Otbq5D\"]/div/div/div/img')\n",
    "        product_url.append(img.get_attribute(\"src\"))\n",
    "        \n",
    "        "
   ]
  },
  {
   "cell_type": "code",
   "execution_count": 42,
   "id": "41d6fe44",
   "metadata": {},
   "outputs": [
    {
     "name": "stdout",
     "output_type": "stream",
     "text": [
      "[]\n",
      "[]\n",
      "[]\n",
      "[]\n",
      "[]\n",
      "[]\n",
      "[]\n",
      "[]\n",
      "[]\n",
      "[]\n",
      "[]\n"
     ]
    }
   ],
   "source": [
    "print(brand_name)\n",
    "print(smartphone_name)\n",
    "print(color_list)\n",
    "print(ram_list)\n",
    "print(rom_list)\n",
    "print(primary_camera)\n",
    "print(secondary_camera)\n",
    "print(display_list)\n",
    "print(battery_list)\n",
    "print(price_list)\n",
    "print(product_url)"
   ]
  },
  {
   "cell_type": "markdown",
   "id": "07bc4d7b",
   "metadata": {},
   "source": [
    "Q5.Write a program to scrap geospatial coordinates (latitude, longitude) of a city searched on google maps"
   ]
  },
  {
   "cell_type": "code",
   "execution_count": null,
   "id": "fe694637",
   "metadata": {},
   "outputs": [],
   "source": []
  },
  {
   "cell_type": "code",
   "execution_count": 43,
   "id": "20957ad5",
   "metadata": {},
   "outputs": [],
   "source": [
    "driver=webdriver.Chrome()\n",
    "driver.get(\"https://www.google.com/maps/@23.970125,78.4209968,7z\")"
   ]
  },
  {
   "cell_type": "code",
   "execution_count": 44,
   "id": "5c56329e",
   "metadata": {},
   "outputs": [],
   "source": [
    "search_tags=driver.find_element(By.XPATH,'//input[@jslog=\"11886\"]')\n",
    "search_tags.send_keys(\"bhopal\")"
   ]
  },
  {
   "cell_type": "code",
   "execution_count": 45,
   "id": "abbb1a5e",
   "metadata": {},
   "outputs": [],
   "source": [
    "search_button=driver.find_element(By.XPATH,'//span[@jstcache=\"24\"]')\n",
    "search_button.click()"
   ]
  },
  {
   "cell_type": "code",
   "execution_count": 61,
   "id": "58665583",
   "metadata": {},
   "outputs": [
    {
     "name": "stdout",
     "output_type": "stream",
     "text": [
      "URL Extracted: https://www.google.com/maps/place/Bhopal,+Madhya+Pradesh/@23.2596417,75.1712036,7z/data=!4m15!1m8!3m7!1s0x397c428f8fd68fbd:0x2155716d572d4f8!2sBhopal,+Madhya+Pradesh!3b1!8m2!3d23.2599333!4d77.412615!16zL20vMGN3NTE!3m5!1s0x397c428f8fd68fbd:0x2155716d572d4f8!8m2!3d23.2599333!4d77.412615!16zL20vMGN3NTE?entry=ttu\n",
      "Latitude =23.2596417, Longitude = 75.1712036\n"
     ]
    }
   ],
   "source": [
    "import re\n",
    "\n",
    "try:\n",
    "    url_string = driver.current_url\n",
    "    print(\"URL Extracted:\", url_string)\n",
    "    lat_lng = re.findall(r'@(.*)data',url_string)\n",
    "    if len(lat_lng):\n",
    "        lat_lng_list = lat_lng[0].split(\",\")\n",
    "        if len(lat_lng_list)>=2:\n",
    "            lat = lat_lng_list[0]\n",
    "            lng = lat_lng_list[1]\n",
    "        print (\"Latitude ={}, Longitude = {}\".format(lat,lng))\n",
    "\n",
    "except Exception as e:\n",
    "       print (\"error: \", str(e))\n",
    "            "
   ]
  },
  {
   "cell_type": "markdown",
   "id": "8539df64",
   "metadata": {},
   "source": [
    "Q6. Write a program to scrap all the available details of best gaming laptops from digit.in"
   ]
  },
  {
   "cell_type": "code",
   "execution_count": 72,
   "id": "e97ed3cb",
   "metadata": {},
   "outputs": [],
   "source": [
    "driver=webdriver.Chrome()\n",
    "driver.get(\"https://www.digit.in/top-products/best-ai-laptops-in-india.html\")"
   ]
  },
  {
   "cell_type": "code",
   "execution_count": 96,
   "id": "e3c4f882",
   "metadata": {},
   "outputs": [],
   "source": []
  },
  {
   "cell_type": "code",
   "execution_count": null,
   "id": "f1fd2924",
   "metadata": {},
   "outputs": [],
   "source": [
    "\n"
   ]
  },
  {
   "cell_type": "code",
   "execution_count": 84,
   "id": "35c1733d",
   "metadata": {},
   "outputs": [],
   "source": []
  },
  {
   "cell_type": "code",
   "execution_count": null,
   "id": "b9a49290",
   "metadata": {},
   "outputs": [],
   "source": []
  },
  {
   "cell_type": "code",
   "execution_count": null,
   "id": "4b5e555f",
   "metadata": {},
   "outputs": [],
   "source": []
  }
 ],
 "metadata": {
  "kernelspec": {
   "display_name": "Python 3 (ipykernel)",
   "language": "python",
   "name": "python3"
  },
  "language_info": {
   "codemirror_mode": {
    "name": "ipython",
    "version": 3
   },
   "file_extension": ".py",
   "mimetype": "text/x-python",
   "name": "python",
   "nbconvert_exporter": "python",
   "pygments_lexer": "ipython3",
   "version": "3.11.4"
  }
 },
 "nbformat": 4,
 "nbformat_minor": 5
}
